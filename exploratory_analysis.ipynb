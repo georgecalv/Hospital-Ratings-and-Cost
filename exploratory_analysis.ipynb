{
 "cells": [
  {
   "cell_type": "markdown",
   "metadata": {},
   "source": [
    "# Step 2: Exploratory Analysis and Feature Selection\n",
    "\n",
    "##### (a). Finalize the datasets you plan to use for your classifier"
   ]
  },
  {
   "cell_type": "markdown",
   "metadata": {},
   "source": []
  },
  {
   "cell_type": "markdown",
   "metadata": {},
   "source": [
    "##### (b). Provide information about your datasets including the attributes and attribute types, the number of instances, and the attribute(s) you will be using as class labels for predictions.\n"
   ]
  },
  {
   "cell_type": "code",
   "execution_count": null,
   "metadata": {},
   "outputs": [],
   "source": []
  },
  {
   "cell_type": "markdown",
   "metadata": {},
   "source": [
    "##### (c). Provide initial data visualizations highlighting important and/or interesting aspects of your datasets related to your classification problem. Visualizations may include frequency distributions, comparisons of attributes (scatterplot, multiple frequency diagrams), and so on. The goal is not to include all possible diagrams, but instead to select and highlight diagrams that provide insight about the dataset and your classification itself. Each visualization must be clearly and accurately labeled."
   ]
  },
  {
   "cell_type": "code",
   "execution_count": null,
   "metadata": {},
   "outputs": [],
   "source": []
  },
  {
   "cell_type": "markdown",
   "metadata": {},
   "source": [
    "##### (d). A list of the features (attributes) you will be using to train your classifiers and a justification for their use."
   ]
  },
  {
   "cell_type": "markdown",
   "metadata": {},
   "source": [
    "##### (e). The types of cleaning operations you will be performing, including handling of missing values and discretization."
   ]
  }
 ],
 "metadata": {
  "kernelspec": {
   "display_name": "Python 3",
   "language": "python",
   "name": "python3"
  },
  "language_info": {
   "name": "python",
   "version": "3.10.11"
  }
 },
 "nbformat": 4,
 "nbformat_minor": 2
}
