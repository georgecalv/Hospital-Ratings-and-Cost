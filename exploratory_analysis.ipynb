{
 "cells": [
  {
   "cell_type": "markdown",
   "metadata": {},
   "source": [
    "# Step 2: Exploratory Analysis and Feature Selection\n",
    "\n",
    "##### (a). Finalize the datasets you plan to use for your classifier"
   ]
  },
  {
   "cell_type": "markdown",
   "metadata": {},
   "source": [
    "For this project I will be using two different tables of data. The first will be inpatient charges which contains the locaion of a hospital the service provided to the paitient, and finally the average cost for the service. The second is Hospital General information which contains the location of a hospital and then ratings for different services they provide. For classification, based I can predict the certain hospital a paitent went to based on the price they paid for their service, the location of the patient, and the overall ratings of the hospitals (assuming that a patient has chosen to go to the best rated hospuital for their service)"
   ]
  },
  {
   "cell_type": "markdown",
   "metadata": {},
   "source": [
    "##### (b). Provide information about your datasets including the attributes and attribute types, the number of instances, and the attribute(s) you will be using as class labels for predictions.\n"
   ]
  },
  {
   "cell_type": "markdown",
   "metadata": {},
   "source": [
    "##### Inpatient Charges Data:\n",
    "\n",
    "Attributes:\n",
    "\n",
    "* DRG Definition = Nominal - Service/Condition for being in hospital\n",
    "* Provider Id = Nominal - Id for the specific hospital\n",
    "* Provider Name = Nominal - Name of the Hospital \n",
    "* Provider Street Address = Nominal - Address of the Hospital\n",
    "* Provider City = Nominal - City Hospital is Located\n",
    "* Provider State = Nominal - State Hospital is Located\n",
    "* Provider ZIP Code = Nominal - Zip Code of Hospital\n",
    "* Hospital Referall Region Description - Nominal - City/Region the Hospital provides for. Ex: \"CA - Los Angeles\"\n",
    "* Total number of Discharges = Interval - Discharges for the given condition in a certain hospital\n",
    "* Average Covered Charges = Interval - Amount of Money Covered for the given condition in a certain hospital\n",
    "\n",
    "Classification:\n",
    "    I will be using the cost and the hospital id to predict the DRG, the service/condition for a certain patient \n",
    "\n",
    "##### Hospital General Information:\n",
    "\n",
    "Attributes:\n",
    "\n",
    "* Provider ID = Nominal - Id for the specific hospital\n",
    "* Hospital Name = Nominal - Name of the Hospital\n",
    "* Address = Nominal - Address of the Hospital\n",
    "* City = Nominal - City Hospital is Located\n",
    "* State = Nominal - State Hospital is Located\n",
    "* ZIP Code = Nominal - Zip Code of Hospital\n",
    "* County Name = Nominal - County for specific Hospital\n",
    "* Phone Number = Nominal - Phone Number for a Hospital\n",
    "* Hospital Type = Nominal - Type of Hospital (ie. Acute Care, Critical Access)\n",
    "* Hospital Ownership = Nominal - Type of Ownership (ie. Voluntary Non-Profit, Proprietary)\n",
    "* Emergency Services = Interval - y or n if they have emergency service\n",
    "* Meets criteria for meaningful use of EHRs = Interval - y or n for having an Electronic Health record\n",
    "* Hospital overall rating = Ordinal - Rating of Hospital 1-5\n",
    "* Hospital overall rating footnote = Nominal - Explanation for rating \n",
    "* Mortality national comparison = Nominal - Comparing to national average for Mortality (ie. Same as national average, Below Average, Above Average)\n",
    "* Mortality national comparison footnote = Nominal - Explanation\n",
    "* Safety of care national comparison = Nominal - Comparing to national average for Safety of Care (ie. Same as national average, Below Average, Above Average)\n",
    "* Safety of care national comparison footnote = Nominal - Explanation\n",
    "* Readmission national comparison = Nominal - Comparing to national average for readmission (ie. Same as national average, Below Average, Above Average)\n",
    "* Readmission national comparison footnote = Nominal - Explanation\n",
    "* Patient experience national comparison = Nominal - Comparing to national average for Patient Experience (ie. Same as national average, Below Average, Above Average)\n",
    "* Patient experience national comparison footnote = Nominal - Explanation \n",
    "* Effectiveness of care national comparison = Nominal - Comparing to national average for Effectiveness of Care(ie. Same as national average, Below Average, Above Average)\n",
    "* Effectiveness of care national comparison footnote = Nominal - Explanation\n",
    "* Timeliness of care national comparison = Nominal - Comparing to national average for Timliness of care (ie. Same as national average, Below Average, Above Average)\n",
    "* Timeliness of care national comparison footnote = Nominal Explanation\n",
    "* Efficient use of medical imaging national comparison = Comparing to national average for Efficient use of medical imaging (ie. Same as national average, Below Average, Above Average)\n",
    "* Efficient use of medical imaging national comparison = Nominal - Explanation\n",
    "\n",
    "Classification:\n",
    "\n",
    "I will be using the DRG Definition, The Overall Hospital Rating, and the Average Cost to Predict the certain Hospital used\n",
    "\n",
    "* DRG Definition = Nominal - Service/Condition for being in hospital\n",
    "* Average Covered Charges = Interval - Amount of Money Covered for the given condition in a certain hospital\n",
    "* Hospital overall rating = Ordinal - Rating of Hospital 1-5\n",
    "\n",
    "To Predict:\n",
    "* Provider Id = Nominal - Id for the specific hospital\n",
    "* Provider Name = Nominal - Name of the Hospital"
   ]
  },
  {
   "cell_type": "code",
   "execution_count": 1,
   "metadata": {},
   "outputs": [],
   "source": [
    "from data_table import *\n",
    "from data_learn import *\n",
    "from data_eval import *\n",
    "from data_util import *"
   ]
  },
  {
   "cell_type": "markdown",
   "metadata": {},
   "source": [
    "Import Files into a Data Table and display number of instances for each"
   ]
  },
  {
   "cell_type": "code",
   "execution_count": 2,
   "metadata": {},
   "outputs": [
    {
     "name": "stdout",
     "output_type": "stream",
     "text": [
      "Inpatient Data Instances =  163066\n",
      "Hospital General Info Instances =  4813\n"
     ]
    }
   ],
   "source": [
    "inpatient_charges_table = DataTable([\"DRG Definition\",\"Provider Id\",\"Hospital Name\",\"Address\",\"City\",\n",
    "                                    \"State\",\"ZIP Code\",\"Hospital Referral Region Description\", \"Total Discharges\" , \n",
    "                                    \"Average Covered Charges\" , \"Average Total Payments \",\"Average Medicare Payments\"])\n",
    "\n",
    "hospital_info_table = DataTable([\"Provider ID\",\"Hospital Name\",\"Address\",\"City\",\"State\",\"ZIP Code\",\"County Name\",\n",
    "                                \"Phone Number\",\"Hospital Type\",\"Hospital Ownership\",\"Emergency Services\",\n",
    "                                \"Meets criteria for meaningful use of EHRs\",\"Hospital overall rating\",\"Hospital overall rating footnote\",\n",
    "                                \"Mortality national comparison\",\"Mortality national comparison footnote\",\n",
    "                                \"Safety of care national comparison\",\"Safety of care national comparison footnote\",\n",
    "                                \"Readmission national comparison\",\"Readmission national comparison footnote\",\n",
    "                                \"Patient experience national comparison\",\"Patient experience national comparison footnote\",\n",
    "                                \"Effectiveness of care national comparison\",\"Effectiveness of care national comparison footnote\",\n",
    "                                \"Timeliness of care national comparison\",\"Timeliness of care national comparison footnote\",\n",
    "                                \"Efficient use of medical imaging national comparison\",\"Efficient use of medical imaging national comparison footnote\"])                               \n",
    "inpatient_charges_table.load(\"inpatientCharges.csv\")\n",
    "hospital_info_table.load(\"Hospital General Information.csv\")\n",
    "\n",
    "print(\"Inpatient Data Instances = \", inpatient_charges_table.row_count())\n",
    "print(\"Hospital General Info Instances = \", hospital_info_table.row_count())"
   ]
  },
  {
   "cell_type": "markdown",
   "metadata": {},
   "source": [
    "##### (c). Provide initial data visualizations highlighting important and/or interesting aspects of your datasets related to your classification problem. Visualizations may include frequency distributions, comparisons of attributes (scatterplot, multiple frequency diagrams), and so on. The goal is not to include all possible diagrams, but instead to select and highlight diagrams that provide insight about the dataset and your classification itself. Each visualization must be clearly and accurately labeled."
   ]
  },
  {
   "cell_type": "markdown",
   "metadata": {},
   "source": [
    "First Join the Tables based on Hospital name and City while removing non matches"
   ]
  },
  {
   "cell_type": "code",
   "execution_count": 3,
   "metadata": {},
   "outputs": [],
   "source": [
    "\n",
    "combined_table = DataTable.combine(inpatient_charges_table, hospital_info_table, [\"Hospital Name\", \"Address\", \"City\", \"State\", \"ZIP Code\"])"
   ]
  },
  {
   "cell_type": "markdown",
   "metadata": {},
   "source": [
    "##### (d). A list of the features (attributes) you will be using to train your classifiers and a justification for their use."
   ]
  },
  {
   "cell_type": "markdown",
   "metadata": {},
   "source": [
    "##### (e). The types of cleaning operations you will be performing, including handling of missing values and discretization."
   ]
  }
 ],
 "metadata": {
  "kernelspec": {
   "display_name": "Python 3",
   "language": "python",
   "name": "python3"
  },
  "language_info": {
   "codemirror_mode": {
    "name": "ipython",
    "version": 3
   },
   "file_extension": ".py",
   "mimetype": "text/x-python",
   "name": "python",
   "nbconvert_exporter": "python",
   "pygments_lexer": "ipython3",
   "version": "3.10.11"
  }
 },
 "nbformat": 4,
 "nbformat_minor": 2
}
