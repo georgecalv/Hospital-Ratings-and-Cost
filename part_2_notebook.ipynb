{
 "cells": [
  {
   "cell_type": "markdown",
   "metadata": {},
   "source": [
    "# Step 2: Exploratory Analysis and Feature Selection\n",
    "\n",
    "##### (a). Finalize the datasets you plan to use for your classifier"
   ]
  },
  {
   "cell_type": "markdown",
   "metadata": {},
   "source": [
    "For this project I will be using two different tables of data. The first will be inpatient charges which contains the locaion of a hospital the service provided to the paitient, and finally the average cost for the service. The second is Hospital General information which contains the location of a hospital and then ratings for different services they provide. For classification, based I can predict the certain hospital a paitent went to based on the price they paid for their service, the location of the patient, and the overall ratings of the hospitals (assuming that a patient has chosen to go to the best rated hospuital for their service)"
   ]
  },
  {
   "cell_type": "markdown",
   "metadata": {},
   "source": [
    "##### (b). Provide information about your datasets including the attributes and attribute types, the number of instances, and the attribute(s) you will be using as class labels for predictions.\n"
   ]
  },
  {
   "cell_type": "markdown",
   "metadata": {},
   "source": [
    "##### Inpatient Charges Data:\n",
    "\n",
    "Attributes:\n",
    "\n",
    "* DRG Definition = Nominal - Service/Condition for being in hospital\n",
    "* Provider Id = Nominal - Id for the specific hospital\n",
    "* Provider Name = Nominal - Name of the Hospital \n",
    "* Provider Street Address = Nominal - Address of the Hospital\n",
    "* Provider City = Nominal - City Hospital is Located\n",
    "* Provider State = Nominal - State Hospital is Located\n",
    "* Provider ZIP Code = Nominal - Zip Code of Hospital\n",
    "* Hospital Referall Region Description - Nominal - City/Region the Hospital provides for. Ex: \"CA - Los Angeles\"\n",
    "* Total number of Discharges = Interval - Discharges for the given condition in a certain hospital\n",
    "* Average Covered Charges = Interval - Amount of Money Covered for the given condition in a certain hospital\n",
    "* Average Total Payments = Interval - Average total payment for service\n",
    "\n",
    "Classification:\n",
    "    I will be using the cost and the hospital id to predict the DRG, the service/condition for a certain patient \n",
    "\n",
    "##### Hospital General Information:\n",
    "\n",
    "Attributes:\n",
    "\n",
    "* Provider ID = Nominal - Id for the specific hospital\n",
    "* Hospital Name = Nominal - Name of the Hospital\n",
    "* Address = Nominal - Address of the Hospital\n",
    "* City = Nominal - City Hospital is Located\n",
    "* State = Nominal - State Hospital is Located\n",
    "* ZIP Code = Nominal - Zip Code of Hospital\n",
    "* County Name = Nominal - County for specific Hospital\n",
    "* Phone Number = Nominal - Phone Number for a Hospital\n",
    "* Hospital Type = Nominal - Type of Hospital (ie. Acute Care, Critical Access)\n",
    "* Hospital Ownership = Nominal - Type of Ownership (ie. Voluntary Non-Profit, Proprietary)\n",
    "* Emergency Services = Interval - y or n if they have emergency service\n",
    "* Meets criteria for meaningful use of EHRs = Interval - y or n for having an Electronic Health record\n",
    "* Hospital overall rating = Ordinal - Rating of Hospital 1-5\n",
    "* Hospital overall rating footnote = Nominal - Explanation for rating \n",
    "* Mortality national comparison = Nominal - Comparing to national average for Mortality (ie. Same as national average, Below Average, Above Average)\n",
    "* Mortality national comparison footnote = Nominal - Explanation\n",
    "* Safety of care national comparison = Nominal - Comparing to national average for Safety of Care (ie. Same as national average, Below Average, Above Average)\n",
    "* Safety of care national comparison footnote = Nominal - Explanation\n",
    "* Readmission national comparison = Nominal - Comparing to national average for readmission (ie. Same as national average, Below Average, Above Average)\n",
    "* Readmission national comparison footnote = Nominal - Explanation\n",
    "* Patient experience national comparison = Nominal - Comparing to national average for Patient Experience (ie. Same as national average, Below Average, Above Average)\n",
    "* Patient experience national comparison footnote = Nominal - Explanation \n",
    "* Effectiveness of care national comparison = Nominal - Comparing to national average for Effectiveness of Care(ie. Same as national average, Below Average, Above Average)\n",
    "* Effectiveness of care national comparison footnote = Nominal - Explanation\n",
    "* Timeliness of care national comparison = Nominal - Comparing to national average for Timliness of care (ie. Same as national average, Below Average, Above Average)\n",
    "* Timeliness of care national comparison footnote = Nominal Explanation\n",
    "* Efficient use of medical imaging national comparison = Comparing to national average for Efficient use of medical imaging (ie. Same as national average, Below Average, Above Average)\n",
    "* Efficient use of medical imaging national comparison = Nominal - Explanation\n",
    "\n",
    "Classification:\n",
    "\n",
    "I will be using the DRG Definition, The Overall Hospital Rating, and the Average Cost to Predict the certain Hospital used\n",
    "\n",
    "* DRG Definition = Nominal - Service/Condition for being in hospital\n",
    "* Average Total Payments = Interval - Average total payment for service\n",
    "* Hospital overall rating = Ordinal - Rating of Hospital 1-5\n",
    "\n",
    "To Predict:\n",
    "* Provider Id = Nominal - Id for the specific hospital\n",
    "* Provider Name = Nominal - Name of the Hospital"
   ]
  },
  {
   "cell_type": "code",
   "execution_count": 9,
   "metadata": {},
   "outputs": [],
   "source": [
    "from data_table import *\n",
    "from data_learn import *\n",
    "from data_eval import *\n",
    "from data_util import *"
   ]
  },
  {
   "cell_type": "markdown",
   "metadata": {},
   "source": [
    "Import Files into a Data Table and display number of instances for each"
   ]
  },
  {
   "cell_type": "code",
   "execution_count": 10,
   "metadata": {},
   "outputs": [
    {
     "name": "stdout",
     "output_type": "stream",
     "text": [
      "Inpatient Data Instances =  163066\n",
      "Hospital General Info Instances =  4813\n"
     ]
    }
   ],
   "source": [
    "inpatient_charges_table = DataTable([\"DRG Definition\",\"Provider Id\",\"Hospital Name\",\"Address\",\"City\",\n",
    "                                    \"State\",\"ZIP Code\",\"Hospital Referral Region Description\", \"Total Discharges\" , \n",
    "                                    \"Average Covered Charges\" , \"Average Total Payments \",\"Average Medicare Payments\"])\n",
    "\n",
    "hospital_info_table = DataTable([\"Provider ID\",\"Hospital Name\",\"Address\",\"City\",\"State\",\"ZIP Code\",\"County Name\",\n",
    "                                \"Phone Number\",\"Hospital Type\",\"Hospital Ownership\",\"Emergency Services\",\n",
    "                                \"Meets criteria for meaningful use of EHRs\",\"Hospital overall rating\",\"Hospital overall rating footnote\",\n",
    "                                \"Mortality national comparison\",\"Mortality national comparison footnote\",\n",
    "                                \"Safety of care national comparison\",\"Safety of care national comparison footnote\",\n",
    "                                \"Readmission national comparison\",\"Readmission national comparison footnote\",\n",
    "                                \"Patient experience national comparison\",\"Patient experience national comparison footnote\",\n",
    "                                \"Effectiveness of care national comparison\",\"Effectiveness of care national comparison footnote\",\n",
    "                                \"Timeliness of care national comparison\",\"Timeliness of care national comparison footnote\",\n",
    "                                \"Efficient use of medical imaging national comparison\",\"Efficient use of medical imaging national comparison footnote\"])                               \n",
    "inpatient_charges_table.load(\"inpatientCharges.csv\")\n",
    "hospital_info_table.load(\"Hospital General Information.csv\")\n",
    "\n",
    "print(\"Inpatient Data Instances = \", inpatient_charges_table.row_count())\n",
    "print(\"Hospital General Info Instances = \", hospital_info_table.row_count())"
   ]
  },
  {
   "cell_type": "markdown",
   "metadata": {},
   "source": [
    "##### (c). Provide initial data visualizations highlighting important and/or interesting aspects of your datasets related to your classification problem. Visualizations may include frequency distributions, comparisons of attributes (scatterplot, multiple frequency diagrams), and so on. The goal is not to include all possible diagrams, but instead to select and highlight diagrams that provide insight about the dataset and your classification itself. Each visualization must be clearly and accurately labeled."
   ]
  },
  {
   "cell_type": "markdown",
   "metadata": {},
   "source": [
    "First Join the Tables based on Hospital name and City while removing non matches"
   ]
  },
  {
   "cell_type": "code",
   "execution_count": 11,
   "metadata": {},
   "outputs": [
    {
     "name": "stdout",
     "output_type": "stream",
     "text": [
      "106683\n"
     ]
    }
   ],
   "source": [
    "\n",
    "combined_table = DataTable.combine(inpatient_charges_table, hospital_info_table, [\"Hospital Name\", \"Address\", \"City\", \"State\", \"ZIP Code\"])\n",
    "del combined_table[0]\n",
    "print(combined_table.row_count())"
   ]
  },
  {
   "cell_type": "markdown",
   "metadata": {},
   "source": [
    "Visualizations"
   ]
  },
  {
   "cell_type": "code",
   "execution_count": 12,
   "metadata": {},
   "outputs": [
    {
     "data": {
      "image/png": "[encoded data removed]",
      "text/plain": [
       "<Figure size 432x288 with 1 Axes>"
      ]
     },
     "metadata": {
      "needs_background": "light"
     },
     "output_type": "display_data"
    },
    {
     "data": {
      "text/plain": [
       "<Figure size 8640x8640 with 0 Axes>"
      ]
     },
     "metadata": {},
     "output_type": "display_data"
    }
   ],
   "source": [
    "# Frequency of rating for a hospital\n",
    "histogram(combined_table, \"Hospital overall rating\", 5, \"Overal Rating\", \"Frequency\", \"Overall Rating vs. Frequency\")"
   ]
  },
  {
   "cell_type": "code",
   "execution_count": 13,
   "metadata": {},
   "outputs": [],
   "source": [
    "temp_table = combined_table.copy()\n",
    "temp_table.drop([\"DRG Definition\", \"Hospital Referral Region Description\", \"Total Discharges\" , \n",
    "                \"Average Covered Charges\" , \"Average Total Payments \",\"Average Medicare Payments\", \"Hospital overall rating footnote\",\n",
    "                \"Mortality national comparison\",\"Mortality national comparison footnote\",\n",
    "                \"Safety of care national comparison\",\"Safety of care national comparison footnote\",\n",
    "                \"Readmission national comparison\",\"Readmission national comparison footnote\",\n",
    "                \"Patient experience national comparison\",\"Patient experience national comparison footnote\",\n",
    "                \"Effectiveness of care national comparison\",\"Effectiveness of care national comparison footnote\",\n",
    "                \"Timeliness of care national comparison\",\"Timeliness of care national comparison footnote\",\n",
    "                \"Efficient use of medical imaging national comparison\",\"Efficient use of medical imaging national comparison footnote\",\n",
    "                \"Phone Number\",\"Hospital Type\",\"Hospital Ownership\",\"Emergency Services\",\n",
    "                \"Meets criteria for meaningful use of EHRs\"])"
   ]
  },
  {
   "cell_type": "code",
   "execution_count": 14,
   "metadata": {},
   "outputs": [
    {
     "data": {
      "image/png": "[encoded data removed]",
      "text/plain": [
       "<Figure size 432x288 with 1 Axes>"
      ]
     },
     "metadata": {
      "needs_background": "light"
     },
     "output_type": "display_data"
    },
    {
     "data": {
      "text/plain": [
       "<Figure size 8640x8640 with 0 Axes>"
      ]
     },
     "metadata": {},
     "output_type": "display_data"
    }
   ],
   "source": [
    "hospital_table = remove_duplicates(temp_table)\n",
    "histogram(hospital_table, \"State\", 50, \"States\", \"# Hospitals\", \"# Hospitals per state\")\n"
   ]
  },
  {
   "cell_type": "code",
   "execution_count": 31,
   "metadata": {},
   "outputs": [],
   "source": [
    "hospital_cost_table = combined_table.copy()\n",
    "hospital_cost_table.drop([\"Hospital Referral Region Description\", \"Total Discharges\" , \n",
    "                \"Average Covered Charges\",\"Average Medicare Payments\", \"Hospital overall rating footnote\",\n",
    "                \"Mortality national comparison\",\"Mortality national comparison footnote\",\n",
    "                \"Safety of care national comparison\",\"Safety of care national comparison footnote\",\n",
    "                \"Readmission national comparison\",\"Readmission national comparison footnote\",\n",
    "                \"Patient experience national comparison\",\"Patient experience national comparison footnote\",\n",
    "                \"Effectiveness of care national comparison\",\"Effectiveness of care national comparison footnote\",\n",
    "                \"Timeliness of care national comparison\",\"Timeliness of care national comparison footnote\",\n",
    "                \"Efficient use of medical imaging national comparison\",\"Efficient use of medical imaging national comparison footnote\",\n",
    "                \"Phone Number\",\"Hospital Type\",\"Hospital Ownership\",\"Emergency Services\",\n",
    "                \"Meets criteria for meaningful use of EHRs\"])\n",
    "for row in range(hospital_cost_table.row_count()):\n",
    "    s = hospital_cost_table[row][\"Average Total Payments \"]\n",
    "    s = s.replace(\"$\", \"\")\n",
    "    s = hospital_cost_table.convert_numeric(s)\n",
    "    hospital_cost_table[row][\"Average Total Payments \"] = s\n"
   ]
  },
  {
   "cell_type": "code",
   "execution_count": 47,
   "metadata": {},
   "outputs": [],
   "source": [
    "p_list = partition(hospital_cost_table, [\"State\"])"
   ]
  },
  {
   "cell_type": "code",
   "execution_count": 58,
   "metadata": {},
   "outputs": [
    {
     "name": "stdout",
     "output_type": "stream",
     "text": [
      "  State    Average Total Payments\n",
      "-------  -------------------------\n",
      "      0                    7559.27\n",
      "      1                   14409.3\n",
      "      2                   10216.6\n",
      "      3                    7918.21\n",
      "      4                   12620.4\n",
      "      5                    9294.31\n",
      "      6                   11486\n",
      "      7                   10360.1\n",
      "      8                   12147.2\n",
      "      9                    8724.35\n",
      "     10                    8911.31\n",
      "     11                   12859.9\n",
      "     12                    9964.32\n",
      "     13                    9882.82\n",
      "     14                    8669.33\n",
      "     15                    8518.83\n",
      "     16                    8056.24\n",
      "     17                    8082.95\n",
      "     18                    8497.54\n",
      "     19                    8886.92\n",
      "     20                   12879.7\n",
      "     21                   10421.3\n",
      "     22                   10328.8\n",
      "     23                    9554.74\n",
      "     24                    8709.53\n",
      "     25                    8552.46\n",
      "     26                    9134.35\n",
      "     27                    8853.38\n",
      "     28                   10146.5\n",
      "     29                    9289.66\n",
      "     30                   10755.7\n",
      "     31                   10361.3\n",
      "     32                   11641.1\n",
      "     33                    9184.34\n",
      "     34                    9727.77\n",
      "     35                    8761.99\n",
      "     36                    8543.15\n",
      "     37                   10246\n",
      "     38                    9409.01\n",
      "     39                    9663.08\n",
      "     40                    9602.33\n",
      "     41                    9139.88\n",
      "     42                    8195.59\n",
      "     43                    9140\n",
      "     44                    8466.84\n",
      "     45                   10303.4\n",
      "     46                    8882.25\n",
      "     47                   10227.1\n",
      "     48                    8091.05\n",
      "     49                   10260.3\n",
      "     50                   11946.1\n"
     ]
    }
   ],
   "source": [
    "label = []\n",
    "d = []\n",
    "for p in p_list:\n",
    "    vals = []\n",
    "    name = p[0][\"State\"]\n",
    "    label.append(name)\n",
    "    d.append(mean(p, \"Average Total Payments \"))\n",
    "hospital_avg_prices = DataTable(['State', 'Average Total Payments '])\n",
    "for s in range(len(label)):\n",
    "    hospital_avg_prices.append([s, d[s]])\n",
    "print(hospital_avg_prices)"
   ]
  },
  {
   "cell_type": "code",
   "execution_count": 61,
   "metadata": {},
   "outputs": [
    {
     "data": {
      "image/png": "[encoded data removed]",
      "text/plain": [
       "<Figure size 432x288 with 1 Axes>"
      ]
     },
     "metadata": {
      "needs_background": "light"
     },
     "output_type": "display_data"
    }
   ],
   "source": [
    "scatter_plot(column_values(hospital_avg_prices, \"State\"), column_values(hospital_avg_prices, \"Average Total Payments \"), \"State\", \"Average Payment\", \"State vs Average Payment\")"
   ]
  },
  {
   "cell_type": "markdown",
   "metadata": {},
   "source": [
    "##### (d). A list of the features (attributes) you will be using to train your classifiers and a justification for their use.\n",
    "\n",
    "To Train my Classifiers I will be using:\n",
    "\n",
    "* DRG Definition = Nominal - Service/Condition for being in hospital\n",
    "* Average Covered Charges = Interval - Amount of Money Covered for the given condition in a certain hospital\n",
    "* Hospital overall rating = Ordinal - Rating of Hospital 1-5\n",
    "\n",
    "I will be using these becuase cost for a ceratin patient vaires for a service base on the location of the hospital So to use the average cost for the charge and the service or condition will allow me to predict the certain hosputal where the service was provided.\n",
    "Additionally, I will be usign the overall rating since it will fuirther allow the classifiers to find a specific hospital. For instance, there are multiple hospitals in a given city of state who most likely have simialr costs for certain services, so by using the rating it will be able to specifically select which hospital a paitent went to, instead of just the city or state. \n"
   ]
  },
  {
   "cell_type": "markdown",
   "metadata": {},
   "source": [
    "##### (e). The types of cleaning operations you will be performing, including handling of missing values and discretization."
   ]
  },
  {
   "cell_type": "markdown",
   "metadata": {},
   "source": [
    "For cleaning I will first be removing all unescessary columns. These include every column except for:\n",
    "\n",
    "* DRG Definition = Nominal - Service/Condition for being in hospital\n",
    "* Average Total Payments = Interval - Average total payment for service\n",
    "* Hospital overall rating = Ordinal - Rating of Hospital 1-5\n",
    "* Hospital Name = Nominal - Name of the Hospital\n",
    "* Address = Nominal - Address of the Hospital\n",
    "* City = Nominal - City Hospital is Located\n",
    "* State = Nominal - State Hospital is Located\n",
    "* ZIP Code = Nominal - Zip Code of Hospital\n",
    "* County Name = Nominal - County for specific Hospital\n",
    "\n",
    "When handeling with missing values within the Average Total Payments I will be replacing it with the mean for the specific location the hospital is located. Partitioning on States and the service to replace with the mean of that distribution. For all other columns with missing values I will be removing the row. Additionally I will be removing duplicate rows of the Hospital and the service provided. For the overall rating I will be removing rows with missing values/ However, that columns contains intances saying \"Overall rating not available\" for those rows I will also be removing them. Additionally, for the average total payments I will have to convert them to numeric values\n",
    "\n",
    "For discretization, I will be binning the Average total Cost as to not skew the data when Classifying.\n"
   ]
  }
 ],
 "metadata": {
  "kernelspec": {
   "display_name": "Python 3",
   "language": "python",
   "name": "python3"
  },
  "language_info": {
   "codemirror_mode": {
    "name": "ipython",
    "version": 3
   },
   "file_extension": ".py",
   "mimetype": "text/x-python",
   "name": "python",
   "nbconvert_exporter": "python",
   "pygments_lexer": "ipython3",
   "version": "3.10.11"
  }
 },
 "nbformat": 4,
 "nbformat_minor": 2
}
