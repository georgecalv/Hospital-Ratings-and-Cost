{
 "cells": [
  {
   "cell_type": "markdown",
   "metadata": {},
   "source": [
    "*George Calvert*, CPSC 322, Fall 2023, Final Project"
   ]
  },
  {
   "cell_type": "markdown",
   "metadata": {},
   "source": [
    "# Data Discovery:"
   ]
  },
  {
   "cell_type": "markdown",
   "metadata": {},
   "source": [
    "For this project I will be using two different tables of data. The first will be inpatient charges which contains the locaion of a hospital, the service provided to the paitient, and finally the average cost for the service. The second is Hospital General information which contains the location of a hospital and then ratings for different services they provide. For classification, I will be developing models to predict the region in which a certain hospital resides. This model will be trained using both continous and categorical data. The categorical data will include the Hospital;s overall rating, name, and ownership. The continous data will be the average total amount of money patients paid when visiting. This will be calculated by finding the mean of the payements for each of the hospitals intances in the dataset, ignoring which service the individual patient paid for "
   ]
  },
  {
   "cell_type": "markdown",
   "metadata": {},
   "source": [
    "### The Data Sets:"
   ]
  },
  {
   "cell_type": "markdown",
   "metadata": {},
   "source": [
    "* The first data set is *[Inpatient Charges](https://www.kaggle.com/datasets/speedoheck/inpatient-hospital-charges)*.\n",
    "\n",
    "    Which is described as:\n",
    "    > Variation of hospital charges in the various hospitals in the US for the top 100 diagnoses.\n",
    "    > This dataset will show you how price for the same diagnosis and the same treatment and in the same city can vary differently across different providers. It might help you or your loved one find a better hospital for your treatment. You can also analyze to detect fraud among providers.\n",
    "    \n",
    "    The attributes in this dataset are:\n",
    "\n",
    "    * DRG Definition = Nominal - Service/Condition for being in hospital\n",
    "    * Provider Id = Nominal - Id for the specific hospital\n",
    "    * Provider Name = Nominal - Name of the Hospital \n",
    "    * Provider Street Address = Nominal - Address of the Hospital\n",
    "    * Provider City = Nominal - City Hospital is Located\n",
    "    * Provider State = Nominal - State Hospital is Located\n",
    "    * Provider ZIP Code = Nominal - Zip Code of Hospital\n",
    "    * Hospital Referall Region Description - Nominal - City/Region the Hospital provides for. Ex: \"CA - Los Angeles\"\n",
    "    * Total number of Discharges = Interval - Discharges for the given condition in a certain hospital\n",
    "    * Average Covered Charges = Interval - Amount of Money Covered for the given condition in a certain hospital\n",
    "    * Average Total Payments = Interval - Average total payment for service"
   ]
  },
  {
   "cell_type": "markdown",
   "metadata": {},
   "source": [
    "* The second data set is *[Hospital General Information](https://www.kaggle.com/datasets/center-for-medicare-and-medicaid/hospital-ratings?rvi=1)*.\n",
    "\n",
    "    Which is described as:\n",
    "    > The official datasets used on the Medicare.gov Hospital Compare Website provided by the Centers for Medicare & Medicaid Services. These data allow you to compare the quality of care at over 4,000 Medicare-certified hospitals across the country.\n",
    "\n",
    "    The attributes in this data set are:\n",
    "    * Provider ID = Nominal - Id for the specific hospital\n",
    "    * Hospital Name = Nominal - Name of the Hospital\n",
    "    * Address = Nominal - Address of the Hospital\n",
    "    * City = Nominal - City Hospital is Located\n",
    "    * State = Nominal - State Hospital is Located\n",
    "    * ZIP Code = Nominal - Zip Code of Hospital\n",
    "    * County Name = Nominal - County for specific Hospital\n",
    "    * Phone Number = Nominal - Phone Number for a Hospital\n",
    "    * Hospital Type = Nominal - Type of Hospital (ie. Acute Care, Critical Access)\n",
    "    * Hospital Ownership = Nominal - Type of Ownership (ie. Voluntary Non-Profit, Proprietary)\n",
    "    * Emergency Services = Interval - y or n if they have emergency service\n",
    "    * Meets criteria for meaningful use of EHRs = Interval - y or n for having an Electronic Health record\n",
    "    * Hospital overall rating = Ordinal - Rating of Hospital 1-5\n",
    "    * Hospital overall rating footnote = Nominal - Explanation for rating \n",
    "    * Mortality national comparison = Nominal - Comparing to national average for Mortality (ie. Same as national average, Below Average, Above Average)\n",
    "    * Mortality national comparison footnote = Nominal - Explanation\n",
    "    * Safety of care national comparison = Nominal - Comparing to national average for Safety of Care (ie. Same as national average, Below Average, Above Average)\n",
    "    * Safety of care national comparison footnote = Nominal - Explanation\n",
    "    * Readmission national comparison = Nominal - Comparing to national average for readmission (ie. Same as national average, Below Average, Above Average)\n",
    "    * Readmission national comparison footnote = Nominal - Explanation\n",
    "    * Patient experience national comparison = Nominal - Comparing to national average for Patient Experience (ie. Same as national average, Below Average, Above Average)\n",
    "    * Patient experience national comparison footnote = Nominal - Explanation \n",
    "    * Effectiveness of care national comparison = Nominal - Comparing to national average for Effectiveness of Care(ie. Same as national average, Below Average, Above Average)\n",
    "    * Effectiveness of care national comparison footnote = Nominal - Explanation\n",
    "    * Timeliness of care national comparison = Nominal - Comparing to national average for Timliness of care (ie. Same as national average, Below Average, Above Average)\n",
    "    * Timeliness of care national comparison footnote = Nominal Explanation\n",
    "    * Efficient use of medical imaging national comparison = Comparing to national average for Efficient use of medical imaging (ie. Same as national average, Below Average, Above Average)\n",
    "    * Efficient use of medical imaging national comparison = Nominal - Explanation\n",
    "\n"
   ]
  },
  {
   "cell_type": "markdown",
   "metadata": {},
   "source": [
    "I will joining these two data sets together, matching on the Hospital's name, and address. Then I will create a new attribute \"region\" which will be based on the state in which the hospital resides. I will then be cleaning the joined table by removing rows with missing values in the overall ratings, then replacing the missing average costs, with the average cost of hospitals within that state."
   ]
  },
  {
   "cell_type": "markdown",
   "metadata": {},
   "source": [
    "# Exploratory Analysis and Visualizations"
   ]
  },
  {
   "cell_type": "markdown",
   "metadata": {},
   "source": [
    "### Loading Libraries and Data Sets"
   ]
  },
  {
   "cell_type": "code",
   "execution_count": 102,
   "metadata": {},
   "outputs": [],
   "source": [
    "from decision_tree import *\n",
    "from data_table import *\n",
    "from data_learn import *\n",
    "from data_eval import *\n",
    "from data_util import *"
   ]
  },
  {
   "cell_type": "code",
   "execution_count": 103,
   "metadata": {},
   "outputs": [],
   "source": [
    "inpatient_charges_table = DataTable([\"DRG Definition\",\"Provider Id\",\"Hospital Name\",\"Address\",\"City\",\n",
    "                                    \"State\",\"ZIP Code\",\"Hospital Referral Region Description\", \"Total Discharges\" , \n",
    "                                    \"Average Covered Charges\" , \"Average Total Payments \",\"Average Medicare Payments\"])\n",
    "\n",
    "hospital_info_table = DataTable([\"Provider ID\",\"Hospital Name\",\"Address\",\"City\",\"State\",\"ZIP Code\",\"County Name\",\n",
    "                                \"Phone Number\",\"Hospital Type\",\"Hospital Ownership\",\"Emergency Services\",\n",
    "                                \"Meets criteria for meaningful use of EHRs\",\"Hospital overall rating\",\"Hospital overall rating footnote\",\n",
    "                                \"Mortality national comparison\",\"Mortality national comparison footnote\",\n",
    "                                \"Safety of care national comparison\",\"Safety of care national comparison footnote\",\n",
    "                                \"Readmission national comparison\",\"Readmission national comparison footnote\",\n",
    "                                \"Patient experience national comparison\",\"Patient experience national comparison footnote\",\n",
    "                                \"Effectiveness of care national comparison\",\"Effectiveness of care national comparison footnote\",\n",
    "                                \"Timeliness of care national comparison\",\"Timeliness of care national comparison footnote\",\n",
    "                                \"Efficient use of medical imaging national comparison\",\"Efficient use of medical imaging national comparison footnote\"])                               \n",
    "inpatient_charges_table.load(\"inpatientCharges.csv\")\n",
    "hospital_info_table.load(\"Hospital General Information UTF-8.csv\")"
   ]
  },
  {
   "cell_type": "markdown",
   "metadata": {},
   "source": [
    "### Combining Tables on Hospital Name, Address, City, State, ZIP Code\n",
    "* Not including non-matching rows"
   ]
  },
  {
   "cell_type": "code",
   "execution_count": 104,
   "metadata": {},
   "outputs": [],
   "source": [
    "combined_table = DataTable.combine(inpatient_charges_table, hospital_info_table, [\"Hospital Name\", \"Address\", \"City\", \"State\", \"ZIP Code\"])\n",
    "del combined_table[0]"
   ]
  },
  {
   "cell_type": "markdown",
   "metadata": {},
   "source": [
    "### Data Set Facts:"
   ]
  },
  {
   "cell_type": "code",
   "execution_count": 105,
   "metadata": {},
   "outputs": [
    {
     "name": "stdout",
     "output_type": "stream",
     "text": [
      "Number Instances:  106683\n",
      "Number Columns:  35\n"
     ]
    }
   ],
   "source": [
    "print(\"Number Instances: \", combined_table.row_count())\n",
    "print(\"Number Columns: \", combined_table.column_count())"
   ]
  },
  {
   "cell_type": "code",
   "execution_count": 106,
   "metadata": {},
   "outputs": [
    {
     "name": "stdout",
     "output_type": "stream",
     "text": [
      "Number of States Represented:  51\n",
      "Number of Distinct Hospitals:  2059\n",
      "Number Conditions Represented:  100\n"
     ]
    }
   ],
   "source": [
    "print(\"Number of States Represented: \", len(distinct_values(combined_table, 'State')))\n",
    "print(\"Number of Distinct Hospitals: \", len(distinct_values(combined_table, \"Hospital Name\")))\n",
    "print(\"Number Conditions Represented: \", len(distinct_values(combined_table, \"DRG Definition\")))"
   ]
  },
  {
   "cell_type": "markdown",
   "metadata": {},
   "source": [
    "### Visualizations"
   ]
  },
  {
   "cell_type": "markdown",
   "metadata": {},
   "source": [
    "*Distribution of Hospital Ratings*"
   ]
  },
  {
   "cell_type": "code",
   "execution_count": 107,
   "metadata": {},
   "outputs": [
    {
     "data": {
      "image/png": "[encoded data removed]",
      "text/plain": [
       "<Figure size 640x480 with 1 Axes>"
      ]
     },
     "metadata": {},
     "output_type": "display_data"
    },
    {
     "data": {
      "text/plain": [
       "<Figure size 12000x12000 with 0 Axes>"
      ]
     },
     "metadata": {},
     "output_type": "display_data"
    }
   ],
   "source": [
    "histogram(combined_table, \"Hospital overall rating\", 5, \"Overal Rating\", \"Frequency\", \"Overall Rating vs. Frequency\")"
   ]
  },
  {
   "cell_type": "markdown",
   "metadata": {},
   "source": [
    "Here we can see that most hospitals in this data set were rated 3 out of 5 which makes sense since I feel that most people when tasked with rating a hospital would most likely neither have a great or terrible experience then when they are on either side of the spectrum it might include biases. So when developing my classifier when predicting the region this most likely will have little impact."
   ]
  },
  {
   "cell_type": "markdown",
   "metadata": {},
   "source": [
    "*Distribution of Hopitals per Region*"
   ]
  },
  {
   "cell_type": "markdown",
   "metadata": {},
   "source": [
    "To start I first must create a region attribute base on the hosptal's state"
   ]
  },
  {
   "cell_type": "code",
   "execution_count": 108,
   "metadata": {},
   "outputs": [
    {
     "name": "stdout",
     "output_type": "stream",
     "text": [
      "State    Average Total Payments     Region\n",
      "-------  -------------------------  ---------\n",
      "CT       $5548.13                   Northeast\n",
      "PA       $10028.14                  Northeast\n",
      "NY       $7241.33                   Northeast\n",
      "TN       $3783.76                   South\n",
      "NV       $11943.76                  West\n",
      "MI       $7163.27                   Midwest\n",
      "OH       $8329.18                   Midwest\n",
      "OR       $5698.31                   West\n",
      "CA       $13139.10                  West\n",
      "CA       $13494.23                  West\n"
     ]
    }
   ],
   "source": [
    "state_table = DataTable(['State', \"Average Total Payments \"])\n",
    "for row in combined_table:\n",
    "    state_table.append([row['State'], row[\"Average Total Payments \"]])\n",
    "state_to_region_dict = {\n",
    "    'WA': 'West', 'OR': 'West', 'CA': 'West', 'NV': 'West',\n",
    "    'ID': 'West', 'MT': 'West', 'WY': 'West', 'UT': 'West',\n",
    "    'CO': 'West', 'AK': 'West', 'HI': 'West', 'ME': 'Northeast',\n",
    "    'VT': 'Northeast', 'NY': 'Northeast', 'NH': 'Northeast',\n",
    "    'MA': 'Northeast', 'RI': 'Northeast', 'CT': 'Northeast',\n",
    "    'NJ': 'Northeast', 'PA': 'Northeast', 'ND': 'Midwest',\n",
    "    'SD': 'Midwest', 'NE': 'Midwest', 'KS': 'Midwest',\n",
    "    'MN': 'Midwest', 'IA': 'Midwest', 'MO': 'Midwest', 'WI': 'Midwest',\n",
    "    'IL': 'Midwest', 'MI': 'Midwest', 'IN': 'Midwest', 'OH': 'Midwest',\n",
    "    'WV': 'South', 'DC': 'South', 'MD': 'South',\n",
    "    'VA': 'South', 'KY': 'South', 'TN': 'South', 'NC': 'South',\n",
    "    'MS': 'South', 'AR': 'South', 'LA': 'South', 'AL': 'South',\n",
    "    'GA': 'South', 'SC': 'South', 'FL': 'South', 'DE': 'South',\n",
    "    'AZ': 'Southwest', 'NM': 'Southwest', 'OK': 'Southwest',\n",
    "    'TX': 'Southwest'}\n",
    "temp = state_table.columns()\n",
    "temp.append('Region')\n",
    "region_table = DataTable(temp)\n",
    "for row in range(state_table.row_count()):\n",
    "    vals = state_table[row].values()\n",
    "    vals.append(state_to_region_dict[state_table[row][\"State\"]])\n",
    "    region_table.append(vals)\n",
    "print(region_table.rows([randint(0, region_table.row_count() - 1) for x in range(10)]))"
   ]
  },
  {
   "cell_type": "markdown",
   "metadata": {},
   "source": [
    "> Random sample of the region table"
   ]
  },
  {
   "cell_type": "code",
   "execution_count": 109,
   "metadata": {},
   "outputs": [
    {
     "data": {
      "image/png": "[encoded data removed]",
      "text/plain": [
       "<Figure size 640x480 with 1 Axes>"
      ]
     },
     "metadata": {},
     "output_type": "display_data"
    },
    {
     "data": {
      "text/plain": [
       "<Figure size 12000x12000 with 0 Axes>"
      ]
     },
     "metadata": {},
     "output_type": "display_data"
    }
   ],
   "source": [
    "histogram(region_table, 'Region', 5, \"Region\", \"Number of Hospitals\", \"Number of Hospitals per Region\")"
   ]
  },
  {
   "cell_type": "markdown",
   "metadata": {},
   "source": [
    "Here we can see that most hospitals in this dataset are in the South region of the United States. In context of predictng the region based on other factors my classifiers might skew to predict South for most hospitals since it has the most occurances."
   ]
  },
  {
   "cell_type": "markdown",
   "metadata": {},
   "source": [
    "*Distribution of Average Cost per Region* "
   ]
  },
  {
   "cell_type": "markdown",
   "metadata": {},
   "source": [
    "First I must convert the payments attribute to decimal values instead of Strings"
   ]
  },
  {
   "cell_type": "code",
   "execution_count": 110,
   "metadata": {},
   "outputs": [],
   "source": [
    "# converting\n",
    "for row in range(region_table.row_count()):\n",
    "    s = region_table[row][\"Average Total Payments \"]\n",
    "    s = s.replace(\"$\", \"\")\n",
    "    s = region_table.convert_numeric(s)\n",
    "    region_table[row][\"Average Total Payments \"] = s"
   ]
  },
  {
   "cell_type": "markdown",
   "metadata": {},
   "source": [
    "Creating a list of tables partitioned on region so I can calcualte the averages per region"
   ]
  },
  {
   "cell_type": "code",
   "execution_count": 111,
   "metadata": {},
   "outputs": [],
   "source": [
    "# partition on state annd create averages\n",
    "p_list = partition(region_table, [\"Region\"])"
   ]
  },
  {
   "cell_type": "code",
   "execution_count": 112,
   "metadata": {},
   "outputs": [
    {
     "name": "stdout",
     "output_type": "stream",
     "text": [
      "Region       Average Total Payments\n",
      "---------  -------------------------\n",
      "South                        8808.2\n",
      "West                        11641.6\n",
      "Southwest                    9260.86\n",
      "Northeast                   10592.9\n",
      "Midwest                      9289.14\n"
     ]
    }
   ],
   "source": [
    "label = []\n",
    "d = []\n",
    "for p in p_list:\n",
    "    vals = []\n",
    "    name = p[0][\"Region\"]\n",
    "    label.append(name)\n",
    "    d.append(mean(p, \"Average Total Payments \"))\n",
    "hospital_avg_prices_region = DataTable(['Region', 'Average Total Payments '])\n",
    "for s in range(len(label)):\n",
    "    hospital_avg_prices_region.append([label[s], d[s]])\n",
    "print(hospital_avg_prices_region)"
   ]
  },
  {
   "cell_type": "markdown",
   "metadata": {},
   "source": [
    "Distribution of Region and Average Payments"
   ]
  },
  {
   "cell_type": "code",
   "execution_count": 113,
   "metadata": {},
   "outputs": [
    {
     "data": {
      "image/png": "[encoded data removed]",
      "text/plain": [
       "<Figure size 640x480 with 1 Axes>"
      ]
     },
     "metadata": {},
     "output_type": "display_data"
    }
   ],
   "source": [
    "bar_chart(column_values(hospital_avg_prices_region, \"Region\"), column_values(hospital_avg_prices_region, \"Average Total Payments \"), \"Region\", \"Average Payment\", \"Region vs Average Payment\")"
   ]
  },
  {
   "cell_type": "markdown",
   "metadata": {},
   "source": [
    "Originally I believed that the average cost per region would be drastically different, hwoever it seems they are generally the same for each. So for my classifier I will experiment not using it to see if my measurement scores increase with or without that attribute"
   ]
  },
  {
   "cell_type": "markdown",
   "metadata": {},
   "source": [
    "*Clusters of Average Payment per State*\n",
    "\n",
    "> Will be using 7 clusters"
   ]
  },
  {
   "cell_type": "markdown",
   "metadata": {},
   "source": [
    "Calculating average costs per state"
   ]
  },
  {
   "cell_type": "code",
   "execution_count": 114,
   "metadata": {},
   "outputs": [],
   "source": [
    "state_dict = {}\n",
    "dist_vals = distinct_values(region_table, \"State\")\n",
    "for val in range(len(dist_vals)):\n",
    "    state_dict[dist_vals[val]] = val\n",
    "\n",
    "for row in region_table:\n",
    "    row[\"State\"] = state_dict[row[\"State\"]]\n",
    "\n",
    "label = []\n",
    "d = []\n",
    "p_list = partition(region_table, [\"State\"])\n",
    "for p in p_list:\n",
    "    vals = []\n",
    "    name = p[0][\"State\"]\n",
    "    label.append(name)\n",
    "    d.append(mean(p, \"Average Total Payments \"))\n",
    "hospital_avg_prices_state = DataTable(['State', 'Average Total Payments '])\n",
    "for s in range(len(label)):\n",
    "    hospital_avg_prices_state.append([label[s], d[s]])\n"
   ]
  },
  {
   "cell_type": "markdown",
   "metadata": {},
   "source": [
    "Creating clusters of states"
   ]
  },
  {
   "cell_type": "code",
   "execution_count": 115,
   "metadata": {},
   "outputs": [
    {
     "name": "stdout",
     "output_type": "stream",
     "text": [
      "[6132783.806235194, 512332.487555416, 257936.10806671664, 317011.4786781613, 546511.359146382]\n"
     ]
    }
   ],
   "source": [
    "centroids = select_k_random_centroids(hospital_avg_prices_state, 5)\n",
    "clusters = k_means(hospital_avg_prices_state, centroids, [\"State\", \"Average Total Payments \"])\n",
    "two_tss = tss(clusters, ['State', 'Average Total Payments '])\n",
    "print(two_tss)"
   ]
  },
  {
   "cell_type": "code",
   "execution_count": 184,
   "metadata": {},
   "outputs": [
    {
     "data": {
      "image/png": "[encoded data removed]",
      "text/plain": [
       "<Figure size 640x480 with 1 Axes>"
      ]
     },
     "metadata": {},
     "output_type": "display_data"
    }
   ],
   "source": [
    "import matplotlib.pyplot as plt\n",
    "import matplotlib.colors as mcolors\n",
    "\n",
    "plt.figure()\n",
    "plt.grid(color='0.85', zorder=0)\n",
    "\n",
    "colors = list(mcolors.CSS4_COLORS.values())\n",
    "shuffle(colors)\n",
    "for c in range(len(clusters)):\n",
    "   plt.scatter(column_values(clusters[c], 'State'), \n",
    "            column_values(clusters[c], 'Average Total Payments '), \n",
    "            c=colors[c], linestyle='', zorder=3)\n",
    "plt.show()\n",
    "plt.close()"
   ]
  },
  {
   "cell_type": "markdown",
   "metadata": {},
   "source": [
    "Here I have displayed the 7 clusters that were created from the average cost by State. So it looks like it varies pretty drastically by state but this could also be by region. Again I will experiement using average cost or not with my classifiers to see if the scores improve with or without them. "
   ]
  },
  {
   "cell_type": "markdown",
   "metadata": {},
   "source": [
    "For developing my classifiers I will be using the columns Hospital name, Hospital Ownership, Hospital Type and Average Total Payments to predic the region in which a hospital is. This is because I believe this will have the highest corelation in predicting the region since cost rating and ownership vary by region.\n",
    "\n",
    "The types of classifiers I will be using will be KNN, Naive Bayes, Decision Trees, and Random Forests."
   ]
  },
  {
   "cell_type": "markdown",
   "metadata": {},
   "source": [
    "# Data Cleaning and Preprocessing"
   ]
  },
  {
   "cell_type": "markdown",
   "metadata": {},
   "source": [
    "Cleaning"
   ]
  },
  {
   "cell_type": "markdown",
   "metadata": {},
   "source": [
    "* Dropping unecessary attributes"
   ]
  },
  {
   "cell_type": "code",
   "execution_count": 117,
   "metadata": {},
   "outputs": [
    {
     "name": "stdout",
     "output_type": "stream",
     "text": [
      "['Hospital Name', 'State', 'Average Total Payments ', 'Hospital Type', 'Hospital Ownership', 'Hospital overall rating']\n"
     ]
    }
   ],
   "source": [
    "combined_table.drop(['DRG Definition','Hospital Referral Region Description', 'Total Discharges', 'Average Covered Charges','Average Medicare Payments',\n",
    "                     'Provider Id', 'County Name', 'Phone Number', 'Emergency Services', \n",
    "                     'Meets criteria for meaningful use of EHRs','Hospital overall rating footnote', 'Mortality national comparison', \n",
    "                     'Mortality national comparison footnote', 'Safety of care national comparison', 'Safety of care national comparison footnote', \n",
    "                     'Readmission national comparison', 'Readmission national comparison footnote', 'Patient experience national comparison', \n",
    "                     'Patient experience national comparison footnote', 'Effectiveness of care national comparison', \n",
    "                     'Effectiveness of care national comparison footnote', 'Timeliness of care national comparison', 'Timeliness of care national comparison footnote', \n",
    "                     'Efficient use of medical imaging national comparison', 'Efficient use of medical imaging national comparison footnote', 'ZIP Code',\n",
    "                    \"Address\", \"Provider ID\", \"City\"])\n",
    "print(combined_table.columns())"
   ]
  },
  {
   "cell_type": "markdown",
   "metadata": {},
   "source": [
    "I am dropping these attributes because they are not needed when creating my classifiers. I beleive that  they all have no correlation in what region the hospital resides in. However, I will be keeping the columns displayed above since I beleive they will have the biggest effect in what region a hospital resides."
   ]
  },
  {
   "cell_type": "markdown",
   "metadata": {},
   "source": [
    "* Remove Rows with Missing values in the overall rating section\n",
    "> I am doing this since I need rows with an overall rating and It would not be wise to replace the rating with averages by state or by region"
   ]
  },
  {
   "cell_type": "code",
   "execution_count": 118,
   "metadata": {},
   "outputs": [],
   "source": [
    "for row in range(combined_table.row_count()):\n",
    "    if combined_table[row]['Hospital overall rating'] == 'Not Available':\n",
    "        combined_table[row]['Hospital overall rating'] = ''\n",
    "cleaned_table = remove_missing(combined_table, ['Hospital overall rating'])"
   ]
  },
  {
   "cell_type": "markdown",
   "metadata": {},
   "source": [
    "* Replace missing values in the average total payment section"
   ]
  },
  {
   "cell_type": "markdown",
   "metadata": {},
   "source": [
    "> I will replacing the cost with the average cost per that state since using the obverall average would not be wise and may skew the classifiers."
   ]
  },
  {
   "cell_type": "code",
   "execution_count": 119,
   "metadata": {},
   "outputs": [],
   "source": [
    "# convert numeric\n",
    "for row in range(cleaned_table.row_count()):\n",
    "    temp = cleaned_table[row]['Average Total Payments ']\n",
    "    temp = temp.replace('$', '')\n",
    "    num = cleaned_table.convert_numeric(temp)\n",
    "    cleaned_table[row]['Average Total Payments '] = num\n",
    "# replace with average in the state\n",
    "avg = lambda xs : None if not len(xs) else sum(xs) / len(xs)\n",
    "cleaned_table = replace_missing(cleaned_table, 'Average Total Payments ', ['State'], avg)"
   ]
  },
  {
   "cell_type": "markdown",
   "metadata": {},
   "source": [
    "Preprocessing"
   ]
  },
  {
   "cell_type": "markdown",
   "metadata": {},
   "source": [
    "* Normalize Average Payments\n",
    "    > this will aloow the classifier to do easier calculations when predicitng the region since now the cost will be between 0-1 respectively "
   ]
  },
  {
   "cell_type": "code",
   "execution_count": 120,
   "metadata": {},
   "outputs": [],
   "source": [
    "normalize(cleaned_table, \"Average Total Payments \")"
   ]
  },
  {
   "cell_type": "markdown",
   "metadata": {},
   "source": [
    "* Creating Region Attribute and dropping the state attribute\n",
    "\n",
    "    > I am dropping the state attribute since there are too many different states to predict making it incredibly difficult to predict using a classifier. So dropping it and replacing it with region gives my classification approach more of a chance to predict it. Since instead of 50 different values to choose from it now has 5. "
   ]
  },
  {
   "cell_type": "markdown",
   "metadata": {},
   "source": [
    "* Creating region attribute\n",
    "    > This will be done by using a dictionary which I found online [here](https://gist.github.com/sfirrin/fd01d87f022d80e98c37a045c14109fe)."
   ]
  },
  {
   "cell_type": "code",
   "execution_count": 121,
   "metadata": {},
   "outputs": [],
   "source": [
    "state_to_region_dict = {\n",
    "    'WA': 'West', 'OR': 'West', 'CA': 'West', 'NV': 'West',\n",
    "    'ID': 'West', 'MT': 'West', 'WY': 'West', 'UT': 'West',\n",
    "    'CO': 'West', 'AK': 'West', 'HI': 'West', 'ME': 'Northeast',\n",
    "    'VT': 'Northeast', 'NY': 'Northeast', 'NH': 'Northeast',\n",
    "    'MA': 'Northeast', 'RI': 'Northeast', 'CT': 'Northeast',\n",
    "    'NJ': 'Northeast', 'PA': 'Northeast', 'ND': 'Midwest',\n",
    "    'SD': 'Midwest', 'NE': 'Midwest', 'KS': 'Midwest',\n",
    "    'MN': 'Midwest', 'IA': 'Midwest', 'MO': 'Midwest', 'WI': 'Midwest',\n",
    "    'IL': 'Midwest', 'MI': 'Midwest', 'IN': 'Midwest', 'OH': 'Midwest',\n",
    "    'WV': 'South', 'DC': 'South', 'MD': 'South',\n",
    "    'VA': 'South', 'KY': 'South', 'TN': 'South', 'NC': 'South',\n",
    "    'MS': 'South', 'AR': 'South', 'LA': 'South', 'AL': 'South',\n",
    "    'GA': 'South', 'SC': 'South', 'FL': 'South', 'DE': 'South',\n",
    "    'AZ': 'Southwest', 'NM': 'Southwest', 'OK': 'Southwest',\n",
    "    'TX': 'Southwest'}\n",
    "temp = cleaned_table.columns()\n",
    "temp.append('Region')\n",
    "hospital_region_table = DataTable(temp)\n",
    "for row in range(cleaned_table.row_count()):\n",
    "    state = cleaned_table[row]['State']\n",
    "    region = state_to_region_dict[state]\n",
    "    row = cleaned_table[row].values()\n",
    "    row.append(region)\n",
    "    hospital_region_table.append(row)"
   ]
  },
  {
   "cell_type": "markdown",
   "metadata": {},
   "source": [
    "* Dropping State Attribute"
   ]
  },
  {
   "cell_type": "code",
   "execution_count": 122,
   "metadata": {},
   "outputs": [],
   "source": [
    "hospital_region_table.drop(['State'])"
   ]
  },
  {
   "cell_type": "code",
   "execution_count": 123,
   "metadata": {},
   "outputs": [
    {
     "name": "stdout",
     "output_type": "stream",
     "text": [
      "Hospital Name                            Average Total Payments   Hospital Type         Hospital Ownership                Hospital overall rating  Region\n",
      "-------------------------------------  -------------------------  --------------------  ------------------------------  -------------------------  ---------\n",
      "SAINT BARNABAS MEDICAL CENTER                          0.317818   Acute Care Hospitals  Voluntary non-profit - Other                            2  Northeast\n",
      "UNIVERSITY OF VIRGINIA MEDICAL CENTER                  0.08536    Acute Care Hospitals  Government - State                                      2  South\n",
      "UPMC PASSAVANT                                         0.0123781  Acute Care Hospitals  Voluntary non-profit - Private                          4  Northeast\n",
      "LOS ALAMITOS MEDICAL CENTER                            0.0795089  Acute Care Hospitals  Proprietary                                             2  West\n",
      "OHIO STATE UNIVERSITY HOSPITALS                        0.0736361  Acute Care Hospitals  Government - State                                      3  Midwest\n"
     ]
    }
   ],
   "source": [
    "print(hospital_region_table.rows(randint(0, hospital_region_table.row_count() - 1) for x in range(5)))"
   ]
  },
  {
   "cell_type": "markdown",
   "metadata": {},
   "source": [
    "Here is a random sample of 5 rows that displays how the table is now after cleaning"
   ]
  },
  {
   "cell_type": "markdown",
   "metadata": {},
   "source": [
    "# Classifier Development"
   ]
  },
  {
   "cell_type": "markdown",
   "metadata": {},
   "source": [
    "Since this data set is so large (106 thousand rows), I will have to greatly diminish the size of the table in order for my classification techniques to run in a reasonable amount of time. So, I will create a smaller data set of around 20 thousand rows for my decision trees then around 2 thousand for my knn and naive bayes, since they are a lot slower than the trees. The distribution of the regions will match that of the original data set. I will be completing this by using the stratify holdout method to return a set that has the same distribution of region values."
   ]
  },
  {
   "cell_type": "code",
   "execution_count": 124,
   "metadata": {},
   "outputs": [],
   "source": [
    "temp_set, classification_sample_table = stratified_holdout(hospital_region_table, ['Region'], 20000)"
   ]
  },
  {
   "cell_type": "code",
   "execution_count": 125,
   "metadata": {},
   "outputs": [
    {
     "name": "stdout",
     "output_type": "stream",
     "text": [
      "Hospital Name                       Average Total Payments   Hospital Type         Hospital Ownership                             Hospital overall rating  Region\n",
      "--------------------------------  -------------------------  --------------------  -------------------------------------------  -------------------------  ---------\n",
      "MT SINAI HOSPITAL MEDICAL CENTER                 0.121506    Acute Care Hospitals  Voluntary non-profit - Private                                       2  Midwest\n",
      "DOCTORS HOSPITAL                                 0.0796252   Acute Care Hospitals  Voluntary non-profit - Church                                        2  Midwest\n",
      "HARTFORD HOSPITAL                                0.0921923   Acute Care Hospitals  Voluntary non-profit - Private                                       2  Northeast\n",
      "GWINNETT MEDICAL CENTER                          0.0678432   Acute Care Hospitals  Government - Hospital District or Authority                          4  South\n",
      "STARR COUNTY MEMORIAL HOSPITAL                   0.00796616  Acute Care Hospitals  Government - Hospital District or Authority                          3  Southwest\n"
     ]
    }
   ],
   "source": [
    "print(classification_sample_table.rows([randint(0, classification_sample_table.row_count() - 1) for x in range(5)]))"
   ]
  },
  {
   "cell_type": "markdown",
   "metadata": {},
   "source": [
    ">Random 5 rows from new table"
   ]
  },
  {
   "cell_type": "markdown",
   "metadata": {},
   "source": [
    "### Decision Trees\n",
    "> Since my implementation of decision trees doesnt use continuous data, I will not be using the \"Average total payments\" attribute"
   ]
  },
  {
   "cell_type": "code",
   "execution_count": 126,
   "metadata": {},
   "outputs": [],
   "source": [
    "training, test = stratified_holdout(classification_sample_table, ['Region'], classification_sample_table.row_count() // 3)"
   ]
  },
  {
   "cell_type": "code",
   "execution_count": 127,
   "metadata": {},
   "outputs": [
    {
     "name": "stdout",
     "output_type": "stream",
     "text": [
      "['Hospital Name', 'Average Total Payments ', 'Hospital Type', 'Hospital Ownership', 'Hospital overall rating', 'Region']\n"
     ]
    }
   ],
   "source": [
    "print(classification_sample_table.columns())"
   ]
  },
  {
   "cell_type": "code",
   "execution_count": 128,
   "metadata": {},
   "outputs": [
    {
     "name": "stdout",
     "output_type": "stream",
     "text": [
      "Number values not in tree 78\n"
     ]
    }
   ],
   "source": [
    "tree = tdidt_eval(training, test, 'Region', ['Hospital Name', 'Hospital Type', 'Hospital Ownership', 'Hospital overall rating'])"
   ]
  },
  {
   "cell_type": "code",
   "execution_count": 129,
   "metadata": {},
   "outputs": [
    {
     "name": "stdout",
     "output_type": "stream",
     "text": [
      "actual       South    West    Southwest    Northeast    Midwest\n",
      "---------  -------  ------  -----------  -----------  ---------\n",
      "South         1921       1            4            1         15\n",
      "West             0    1044            5           12         24\n",
      "Southwest       10       2          704            0          5\n",
      "Northeast       11       7            0         1340         11\n",
      "Midwest          4      12            2            1       1450\n",
      "6664  Rows in teh test set\n",
      "Average accuracy =  0.9922866686911631\n",
      "Average Precision =  0.9808492071888786\n",
      "Macro Average F-measure =  0.9797937400292318\n",
      "Average Recall =  0.9787405419512062\n"
     ]
    }
   ],
   "source": [
    "print(tree)\n",
    "print(test.row_count(), \" Rows in teh test set\")\n",
    "accuracy_sum = 0\n",
    "precision_sum = 0\n",
    "recall_sum = 0\n",
    "for val in tree.columns():\n",
    "    if not(val == 'actual'):\n",
    "        accuracy_sum += accuracy(tree, val)\n",
    "        precision_sum += precision(tree, val)\n",
    "        recall_sum += recall(tree, val)\n",
    "avg_accuracy = accuracy_sum / (tree.column_count() - 1)\n",
    "avg_precision = precision_sum / (tree.column_count() - 1)\n",
    "avg_recall = recall_sum / (tree.column_count() - 1)\n",
    "f_measure = ((2 * avg_recall) * (avg_precision)) / (avg_recall + avg_precision)\n",
    "print(\"Average accuracy = \", avg_accuracy)\n",
    "print(\"Average Precision = \", avg_precision)\n",
    "print(\"Macro Average F-measure = \", f_measure)\n",
    "print(\"Average Recall = \", avg_recall)\n"
   ]
  },
  {
   "cell_type": "markdown",
   "metadata": {},
   "source": [
    "While this tree has a very good accuracy when predicting regions it however was unable to predict 78 rows of the 6,664 rows it tested. However in the grand scheme that is a very low amount compared to the entire testing set. So, in actuality the accuracy socres for this classifier should be at least slightly lower."
   ]
  },
  {
   "cell_type": "markdown",
   "metadata": {},
   "source": [
    "### Random Forests\n",
    "\n",
    "> I will be using  F = 4, M = 3, N = 30 to predict the region in which an unknown hospital is. This will select all of the columns in the training set, then the 3 most accurate trees it creates from a total of 50 trees created Then since my implementation of decision trees doesnt use continuous data, I will not be using the \"Average total payments\" attribute"
   ]
  },
  {
   "cell_type": "code",
   "execution_count": 130,
   "metadata": {},
   "outputs": [],
   "source": [
    "forest = random_forest_eval(classification_sample_table, training, test, 4, 3, 50, \"Region\", ['Hospital Name', 'Hospital Type', 'Hospital Ownership', 'Hospital overall rating'])"
   ]
  },
  {
   "cell_type": "code",
   "execution_count": 131,
   "metadata": {},
   "outputs": [
    {
     "name": "stdout",
     "output_type": "stream",
     "text": [
      "actual       South    West    Southwest    Northeast    Midwest\n",
      "---------  -------  ------  -----------  -----------  ---------\n",
      "South         1966       0            0            0          0\n",
      "West          1102       0            0            0          0\n",
      "Southwest      737       0            0            0          0\n",
      "Northeast     1375       0            0            0          0\n",
      "Midwest       1484       0            0            0          0\n",
      "6664  Rows in the test set\n",
      "Average accuracy =  0.7180072028811525\n",
      "Average Precision =  0.059003601440576224\n",
      "Macro Average F-measure =  0.09112398609501739\n",
      "Average Recall =  0.2\n"
     ]
    }
   ],
   "source": [
    "print(forest)\n",
    "print(test.row_count(), \" Rows in the test set\")\n",
    "accuracy_sum = 0\n",
    "precision_sum = 0\n",
    "recall_sum = 0\n",
    "for val in forest.columns():\n",
    "    if not(val == 'actual'):\n",
    "        accuracy_sum += accuracy(forest, val)\n",
    "        precision_sum += precision(forest, val)\n",
    "        recall_sum += recall(forest, val)\n",
    "avg_accuracy = accuracy_sum / (forest.column_count() - 1)\n",
    "avg_precision = precision_sum / (forest.column_count() - 1)\n",
    "avg_recall = recall_sum / (forest.column_count() - 1)\n",
    "f_measure = ((2 * avg_recall) * (avg_precision)) / (avg_recall + avg_precision)\n",
    "print(\"Average accuracy = \", avg_accuracy)\n",
    "print(\"Average Precision = \", avg_precision)\n",
    "print(\"Macro Average F-measure = \", f_measure)\n",
    "print(\"Average Recall = \", avg_recall)"
   ]
  },
  {
   "cell_type": "markdown",
   "metadata": {},
   "source": [
    "Here you can see that the forest performed very very poorly when trying to predict the region. I beleive that this is due to the fact that the forest tends to create trees that are overfitted to the training set. Meaning that even though it is accurate when predicting its particular training and test set it might not bee good at predicitng the overall testing set since it is overfitted. So, when the forest selects the 3 most accurate trees it selects those which are actually very poor in predicting new instances. For instance the msot acurate tree could only be deciding between two regions so when it is tasked to predict a vlaue that is not in either of those two regions it will be very innaccurate when predicitng new instances. "
   ]
  },
  {
   "cell_type": "markdown",
   "metadata": {},
   "source": [
    "### KNN\n",
    "> Here I am going to create an even smaller sample of the actual table since the cost of computing KNN is very high. So I will be using the same method as before but will be creating a sample set of around 2000 instances."
   ]
  },
  {
   "cell_type": "markdown",
   "metadata": {},
   "source": [
    "For KNN itself I will be using the 5 closest neighbors with majority voting with the holdout method of developing the training ans test sets"
   ]
  },
  {
   "cell_type": "code",
   "execution_count": 132,
   "metadata": {},
   "outputs": [],
   "source": [
    "temp_set, knn_sample_table = stratified_holdout(hospital_region_table, ['Region'], 2000)"
   ]
  },
  {
   "cell_type": "code",
   "execution_count": 133,
   "metadata": {},
   "outputs": [],
   "source": [
    "knn_train, knn_test = holdout(knn_sample_table, knn_sample_table.row_count() // 5)"
   ]
  },
  {
   "cell_type": "code",
   "execution_count": 134,
   "metadata": {},
   "outputs": [],
   "source": [
    "knn_matrix = knn_eval(knn_train, knn_test, majority_vote, 5, 'Region', ['Average Total Payments '], ['Hospital Name', 'Hospital Type', 'Hospital Ownership', 'Hospital overall rating'])"
   ]
  },
  {
   "cell_type": "code",
   "execution_count": 135,
   "metadata": {},
   "outputs": [
    {
     "name": "stdout",
     "output_type": "stream",
     "text": [
      "actual       South    West    Southwest    Northeast    Midwest\n",
      "---------  -------  ------  -----------  -----------  ---------\n",
      "South           78       7            3           10         11\n",
      "West            10      31            9            8          9\n",
      "Southwest       17       2           20            2          6\n",
      "Northeast       15       7            2           52          7\n",
      "Midwest          9      13            5           14         52\n",
      "399  Rows in the test set\n",
      "Average accuracy =  0.8335839598997493\n",
      "Average Precision =  0.5701108421901856\n",
      "Macro Average F-measure =  0.5639353056285527\n",
      "Average Recall =  0.5578921242751295\n"
     ]
    }
   ],
   "source": [
    "print(knn_matrix)\n",
    "print(knn_test.row_count(), \" Rows in the test set\")\n",
    "accuracy_sum = 0\n",
    "precision_sum = 0\n",
    "recall_sum = 0\n",
    "for val in knn_matrix.columns():\n",
    "    if not(val == 'actual'):\n",
    "        accuracy_sum += accuracy(knn_matrix, val)\n",
    "        precision_sum += precision(knn_matrix, val)\n",
    "        recall_sum += recall(knn_matrix, val)\n",
    "avg_accuracy = accuracy_sum / (knn_matrix.column_count() - 1)\n",
    "avg_precision = precision_sum / (knn_matrix.column_count() - 1)\n",
    "avg_recall = recall_sum / (knn_matrix.column_count() - 1)\n",
    "f_measure = ((2 * avg_recall) * (avg_precision)) / (avg_recall + avg_precision)\n",
    "print(\"Average accuracy = \", avg_accuracy)\n",
    "print(\"Average Precision = \", avg_precision)\n",
    "print(\"Macro Average F-measure = \", f_measure)\n",
    "print(\"Average Recall = \", avg_recall)"
   ]
  },
  {
   "cell_type": "markdown",
   "metadata": {},
   "source": [
    "This KNN classifier seems skewed when predicitn the region of a certain hospitals. As I said when displaying the distributions of hospitals the South has quite a bit more than any other region so I am not that surprised that KNN overwhelmingly chose the South over any other region."
   ]
  },
  {
   "cell_type": "markdown",
   "metadata": {},
   "source": [
    "### KNN without continuous attributes"
   ]
  },
  {
   "cell_type": "code",
   "execution_count": 136,
   "metadata": {},
   "outputs": [],
   "source": [
    "knn_no_cont = knn_eval(knn_train, knn_test, majority_vote, 5, 'Region', [], ['Hospital Name', 'Hospital Type', 'Hospital Ownership', 'Hospital overall rating'])"
   ]
  },
  {
   "cell_type": "code",
   "execution_count": 137,
   "metadata": {},
   "outputs": [
    {
     "name": "stdout",
     "output_type": "stream",
     "text": [
      "actual       South    West    Southwest    Northeast    Midwest\n",
      "---------  -------  ------  -----------  -----------  ---------\n",
      "South          109       0            0            0          0\n",
      "West            67       0            0            0          0\n",
      "Southwest       47       0            0            0          0\n",
      "Northeast       83       0            0            0          0\n",
      "Midwest         93       0            0            0          0\n",
      "399  Rows in the test set\n",
      "Average accuracy =  0.7092731829573934\n",
      "Average Precision =  0.05463659147869674\n",
      "Macro Average F-measure =  0.0858267716535433\n",
      "Average Recall =  0.2\n"
     ]
    }
   ],
   "source": [
    "print(knn_no_cont)\n",
    "print(knn_test.row_count(), \" Rows in the test set\")\n",
    "accuracy_sum = 0\n",
    "precision_sum = 0\n",
    "recall_sum = 0\n",
    "for val in knn_no_cont.columns():\n",
    "    if not(val == 'actual'):\n",
    "        accuracy_sum += accuracy(knn_no_cont, val)\n",
    "        precision_sum += precision(knn_no_cont, val)\n",
    "        recall_sum += recall(knn_no_cont, val)\n",
    "avg_accuracy = accuracy_sum / (knn_no_cont.column_count() - 1)\n",
    "avg_precision = precision_sum / (knn_no_cont.column_count() - 1)\n",
    "avg_recall = recall_sum / (knn_no_cont.column_count() - 1)\n",
    "f_measure = ((2 * avg_recall) * (avg_precision)) / (avg_recall + avg_precision)\n",
    "print(\"Average accuracy = \", avg_accuracy)\n",
    "print(\"Average Precision = \", avg_precision)\n",
    "print(\"Macro Average F-measure = \", f_measure)\n",
    "print(\"Average Recall = \", avg_recall)"
   ]
  },
  {
   "cell_type": "markdown",
   "metadata": {},
   "source": [
    "Here without the continuous variable knn performed much much poorer than when it had the conintuoous value. Hinting to the fact that the average payment has a big impact to how close an unknown instance is to a certain instance."
   ]
  },
  {
   "cell_type": "markdown",
   "metadata": {},
   "source": [
    "### KNN Stratified\n",
    "Now I will be using KNN Stratified with 4 folds and the same sample set as the previous knn with the 5 nearest neighbors"
   ]
  },
  {
   "cell_type": "code",
   "execution_count": 138,
   "metadata": {},
   "outputs": [],
   "source": [
    "knn_strat_matrix = knn_stratified(knn_sample_table, 4, 'Region', majority_vote, 5, ['Average Total Payments '], ['Hospital Name', 'Hospital Type', 'Hospital Ownership', 'Hospital overall rating'])"
   ]
  },
  {
   "cell_type": "code",
   "execution_count": 139,
   "metadata": {},
   "outputs": [
    {
     "name": "stdout",
     "output_type": "stream",
     "text": [
      "actual       South    West    Southwest    Northeast    Midwest\n",
      "---------  -------  ------  -----------  -----------  ---------\n",
      "South          537      16            5           13         18\n",
      "West            20     273            5           18         14\n",
      "Southwest       30       4          176            3          8\n",
      "Northeast       30       8            5          353         16\n",
      "Midwest         21      12           10           21        381\n",
      "1997  Rows in table\n",
      "Average accuracy =  0.9445167751627441\n",
      "Average Precision =  0.8653137557402989\n",
      "Macro Average F-measure =  0.8574198642739068\n",
      "Average Recall =  0.8496686960708362\n"
     ]
    }
   ],
   "source": [
    "print(knn_strat_matrix)\n",
    "print(knn_sample_table.row_count(), \" Rows in table\")\n",
    "accuracy_sum = 0\n",
    "precision_sum = 0\n",
    "recall_sum = 0\n",
    "for val in knn_strat_matrix.columns():\n",
    "    if not(val == 'actual'):\n",
    "        accuracy_sum += accuracy(knn_strat_matrix, val)\n",
    "        precision_sum += precision(knn_strat_matrix, val)\n",
    "        recall_sum += recall(knn_strat_matrix, val)\n",
    "avg_accuracy = accuracy_sum / (knn_strat_matrix.column_count() - 1)\n",
    "avg_precision = precision_sum / (knn_strat_matrix.column_count() - 1)\n",
    "avg_recall = recall_sum / (knn_strat_matrix.column_count() - 1)\n",
    "f_measure = ((2 * avg_recall) * (avg_precision)) / (avg_recall + avg_precision)\n",
    "print(\"Average accuracy = \", avg_accuracy)\n",
    "print(\"Average Precision = \", avg_precision)\n",
    "print(\"Macro Average F-measure = \", f_measure)\n",
    "print(\"Average Recall = \", avg_recall)"
   ]
  },
  {
   "cell_type": "markdown",
   "metadata": {},
   "source": [
    "This is surpirsingly a very good classifier when predicitng the region. I am surprised because when I ran regular KNN the overall score was about 50 percent. Meaning that it was right half of the time. So, to have a KNN_straified algorithm that predicts the right region around 85 percent of the time is very good."
   ]
  },
  {
   "cell_type": "markdown",
   "metadata": {},
   "source": [
    "### KNN stratified without continuous attribute"
   ]
  },
  {
   "cell_type": "code",
   "execution_count": 140,
   "metadata": {},
   "outputs": [],
   "source": [
    "knn_strat_no_cont = knn_stratified(knn_sample_table, 4, 'Region', majority_vote, 5, [], ['Hospital Name', 'Hospital Type', 'Hospital Ownership', 'Hospital overall rating'])"
   ]
  },
  {
   "cell_type": "code",
   "execution_count": 141,
   "metadata": {},
   "outputs": [
    {
     "name": "stdout",
     "output_type": "stream",
     "text": [
      "actual       South    West    Southwest    Northeast    Midwest\n",
      "---------  -------  ------  -----------  -----------  ---------\n",
      "South          589       0            0            0          0\n",
      "West           330       0            0            0          0\n",
      "Southwest      221       0            0            0          0\n",
      "Northeast      412       0            0            0          0\n",
      "Midwest        445       0            0            0          0\n",
      "1997  Rows in table\n",
      "Average accuracy =  0.7179769654481724\n",
      "Average Precision =  0.05898848272408613\n",
      "Macro Average F-measure =  0.09110595514307812\n",
      "Average Recall =  0.2\n"
     ]
    }
   ],
   "source": [
    "print(knn_strat_no_cont)\n",
    "print(knn_sample_table.row_count(), \" Rows in table\")\n",
    "accuracy_sum = 0\n",
    "precision_sum = 0\n",
    "recall_sum = 0\n",
    "for val in knn_strat_no_cont.columns():\n",
    "    if not(val == 'actual'):\n",
    "        accuracy_sum += accuracy(knn_strat_no_cont, val)\n",
    "        precision_sum += precision(knn_strat_no_cont, val)\n",
    "        recall_sum += recall(knn_strat_no_cont, val)\n",
    "avg_accuracy = accuracy_sum / (knn_strat_no_cont.column_count() - 1)\n",
    "avg_precision = precision_sum / (knn_strat_no_cont.column_count() - 1)\n",
    "avg_recall = recall_sum / (knn_strat_no_cont.column_count() - 1)\n",
    "f_measure = ((2 * avg_recall) * (avg_precision)) / (avg_recall + avg_precision)\n",
    "print(\"Average accuracy = \", avg_accuracy)\n",
    "print(\"Average Precision = \", avg_precision)\n",
    "print(\"Macro Average F-measure = \", f_measure)\n",
    "print(\"Average Recall = \", avg_recall)"
   ]
  },
  {
   "cell_type": "markdown",
   "metadata": {},
   "source": [
    "As expected without the continuous value KNN stratified performed much worse since KNN stratified is essentially performing KNN multiple times so of course it performed around the same as normal knn without the average total payments"
   ]
  },
  {
   "cell_type": "markdown",
   "metadata": {},
   "source": [
    "### Naive Bayes\n",
    "> Here I will be using the Naive Bayes algorithm with the same test and training sets as KNN since Naive is even more expensive than KNN"
   ]
  },
  {
   "cell_type": "code",
   "execution_count": 142,
   "metadata": {},
   "outputs": [],
   "source": [
    "naive_matrix = naive_bayes_eval(knn_train, knn_test, 'Region', ['Average Total Payments '], ['Hospital Name', 'Hospital Type', 'Hospital Ownership', 'Hospital overall rating'])"
   ]
  },
  {
   "cell_type": "code",
   "execution_count": 143,
   "metadata": {},
   "outputs": [
    {
     "name": "stdout",
     "output_type": "stream",
     "text": [
      "actual       South    West    Southwest    Northeast    Midwest\n",
      "---------  -------  ------  -----------  -----------  ---------\n",
      "South          105       4            0            0          0\n",
      "West            55      11            0            1          0\n",
      "Southwest       44       3            0            0          0\n",
      "Northeast       74       7            0            2          0\n",
      "Midwest         89       4            0            0          0\n",
      "399  Rows in the test set\n",
      "Average accuracy =  0.718295739348371\n",
      "Average Precision =  0.266416110745717\n",
      "Macro Average F-measure =  0.24705406155261012\n",
      "Average Recall =  0.23031564846267175\n"
     ]
    }
   ],
   "source": [
    "print(naive_matrix)\n",
    "print(knn_test.row_count(), \" Rows in the test set\")\n",
    "accuracy_sum = 0\n",
    "precision_sum = 0\n",
    "recall_sum = 0\n",
    "for val in naive_matrix.columns():\n",
    "    if not(val == 'actual'):\n",
    "        accuracy_sum += accuracy(naive_matrix, val)\n",
    "        precision_sum += precision(naive_matrix, val)\n",
    "        recall_sum += recall(naive_matrix, val)\n",
    "avg_accuracy = accuracy_sum / (naive_matrix.column_count() - 1)\n",
    "avg_precision = precision_sum / (naive_matrix.column_count() - 1)\n",
    "avg_recall = recall_sum / (naive_matrix.column_count() - 1)\n",
    "f_measure = ((2 * avg_recall) * (avg_precision)) / (avg_recall + avg_precision)\n",
    "print(\"Average accuracy = \", avg_accuracy)\n",
    "print(\"Average Precision = \", avg_precision)\n",
    "print(\"Macro Average F-measure = \", f_measure)\n",
    "print(\"Average Recall = \", avg_recall)"
   ]
  },
  {
   "cell_type": "markdown",
   "metadata": {},
   "source": [
    "This is another classifier that overwhelmingly chose the South for certain hospitals, which as I have said previously, is due to the distribution of hospitals by region"
   ]
  },
  {
   "cell_type": "markdown",
   "metadata": {},
   "source": [
    "### Naive Bayes no continuous"
   ]
  },
  {
   "cell_type": "code",
   "execution_count": 144,
   "metadata": {},
   "outputs": [],
   "source": [
    "naive_no_cont = naive_bayes_eval(knn_train, knn_test, 'Region', [], ['Hospital Name', 'Hospital Type', 'Hospital Ownership', 'Hospital overall rating'])"
   ]
  },
  {
   "cell_type": "code",
   "execution_count": 145,
   "metadata": {},
   "outputs": [
    {
     "name": "stdout",
     "output_type": "stream",
     "text": [
      "actual       South    West    Southwest    Northeast    Midwest\n",
      "---------  -------  ------  -----------  -----------  ---------\n",
      "South          108       0            0            0          1\n",
      "West            21      45            0            0          1\n",
      "Southwest       18       0           29            0          0\n",
      "Northeast       27       0            0           56          0\n",
      "Midwest         25       2            0            2         64\n",
      "399  Rows in the test set\n",
      "Average accuracy =  0.9027568922305764\n",
      "Average Precision =  0.8870749174852228\n",
      "Macro Average F-measure =  0.79998815600603\n",
      "Average Recall =  0.7284719187810783\n"
     ]
    }
   ],
   "source": [
    "print(naive_no_cont)\n",
    "print(knn_test.row_count(), \" Rows in the test set\")\n",
    "accuracy_sum = 0\n",
    "precision_sum = 0\n",
    "recall_sum = 0\n",
    "for val in naive_no_cont.columns():\n",
    "    if not(val == 'actual'):\n",
    "        accuracy_sum += accuracy(naive_no_cont, val)\n",
    "        precision_sum += precision(naive_no_cont, val)\n",
    "        recall_sum += recall(naive_no_cont, val)\n",
    "avg_accuracy = accuracy_sum / (naive_no_cont.column_count() - 1)\n",
    "avg_precision = precision_sum / (naive_no_cont.column_count() - 1)\n",
    "avg_recall = recall_sum / (naive_no_cont.column_count() - 1)\n",
    "f_measure = ((2 * avg_recall) * (avg_precision)) / (avg_recall + avg_precision)\n",
    "print(\"Average accuracy = \", avg_accuracy)\n",
    "print(\"Average Precision = \", avg_precision)\n",
    "print(\"Macro Average F-measure = \", f_measure)\n",
    "print(\"Average Recall = \", avg_recall)"
   ]
  },
  {
   "cell_type": "markdown",
   "metadata": {},
   "source": [
    "To my surprise Naive bayes without the continuous value performed much better in predicitng regions. However, as you can see from the table it still was susceptible to predict the South since Naive Bayes performs based on probabilities and having a higher number will obvously mean that that region will be predicted more."
   ]
  },
  {
   "cell_type": "markdown",
   "metadata": {},
   "source": [
    "### Naive Bayes Stratified\n",
    "> Here I will be using 4 folds for my stratified naive bayes algorithm"
   ]
  },
  {
   "cell_type": "code",
   "execution_count": 146,
   "metadata": {},
   "outputs": [],
   "source": [
    "naive_strat_matrix = naive_bayes_stratified(knn_sample_table, 4, \"Region\", ['Average Total Payments '], ['Hospital Name', 'Hospital Type', 'Hospital Ownership', 'Hospital overall rating'])"
   ]
  },
  {
   "cell_type": "code",
   "execution_count": 147,
   "metadata": {},
   "outputs": [
    {
     "name": "stdout",
     "output_type": "stream",
     "text": [
      "actual       South    West    Southwest    Northeast    Midwest\n",
      "---------  -------  ------  -----------  -----------  ---------\n",
      "South          558      26            0            5          0\n",
      "West           290      35            0            5          0\n",
      "Southwest      205      14            0            2          0\n",
      "Northeast      374      31            0            7          0\n",
      "Midwest        415      22            0            8          0\n",
      "1997  Rows in the test set\n",
      "Average accuracy =  0.7201802704056084\n",
      "Average Precision =  0.16712567107009288\n",
      "Macro Average F-measure =  0.1877125628869318\n",
      "Average Recall =  0.21408386367507473\n"
     ]
    }
   ],
   "source": [
    "print(naive_strat_matrix)\n",
    "print(knn_sample_table.row_count(), \" Rows in the test set\")\n",
    "accuracy_sum = 0\n",
    "precision_sum = 0\n",
    "recall_sum = 0\n",
    "for val in naive_strat_matrix.columns():\n",
    "    if not(val == 'actual'):\n",
    "        accuracy_sum += accuracy(naive_strat_matrix, val)\n",
    "        precision_sum += precision(naive_strat_matrix, val)\n",
    "        recall_sum += recall(naive_strat_matrix, val)\n",
    "avg_accuracy = accuracy_sum / (naive_strat_matrix.column_count() - 1)\n",
    "avg_precision = precision_sum / (naive_strat_matrix.column_count() - 1)\n",
    "avg_recall = recall_sum / (naive_strat_matrix.column_count() - 1)\n",
    "f_measure = ((2 * avg_recall) * (avg_precision)) / (avg_recall + avg_precision)\n",
    "print(\"Average accuracy = \", avg_accuracy)\n",
    "print(\"Average Precision = \", avg_precision)\n",
    "print(\"Macro Average F-measure = \", f_measure)\n",
    "print(\"Average Recall = \", avg_recall)"
   ]
  },
  {
   "cell_type": "markdown",
   "metadata": {},
   "source": [
    "Here you can see that Naive bayes had the same issue as Naive Bayes stratified which makes sense because Naive bayes uses probability of certain labels in the attribute we are trying to predict to choose the region. Meaning that if there is a higher distribution of South hospitals in the training set it is more likely to predict the South."
   ]
  },
  {
   "cell_type": "markdown",
   "metadata": {},
   "source": [
    "### Naive Stratified without continuous"
   ]
  },
  {
   "cell_type": "code",
   "execution_count": 148,
   "metadata": {},
   "outputs": [],
   "source": [
    "naive_strat_no_cont = naive_bayes_stratified(knn_sample_table, 4, \"Region\", [], ['Hospital Name', 'Hospital Type', 'Hospital Ownership', 'Hospital overall rating'])"
   ]
  },
  {
   "cell_type": "code",
   "execution_count": 149,
   "metadata": {},
   "outputs": [
    {
     "name": "stdout",
     "output_type": "stream",
     "text": [
      "actual       South    West    Southwest    Northeast    Midwest\n",
      "---------  -------  ------  -----------  -----------  ---------\n",
      "South          582       0            0            3          4\n",
      "West             0     319            0            2          9\n",
      "Southwest        2       3          215            0          1\n",
      "Northeast        1       3            0          405          3\n",
      "Midwest          0       4            0            3        438\n",
      "1997  Rows in the test set\n",
      "Average accuracy =  0.9923885828743113\n",
      "Average Precision =  0.9815487121365232\n",
      "Macro Average F-measure =  0.9802638931732238\n",
      "Average Recall =  0.9789824333948042\n"
     ]
    }
   ],
   "source": [
    "print(naive_strat_no_cont)\n",
    "print(knn_sample_table.row_count(), \" Rows in the test set\")\n",
    "accuracy_sum = 0\n",
    "precision_sum = 0\n",
    "recall_sum = 0\n",
    "for val in naive_strat_no_cont.columns():\n",
    "    if not(val == 'actual'):\n",
    "        accuracy_sum += accuracy(naive_strat_no_cont, val)\n",
    "        precision_sum += precision(naive_strat_no_cont, val)\n",
    "        recall_sum += recall(naive_strat_no_cont, val)\n",
    "avg_accuracy = accuracy_sum / (naive_strat_no_cont.column_count() - 1)\n",
    "avg_precision = precision_sum / (naive_strat_no_cont.column_count() - 1)\n",
    "avg_recall = recall_sum / (naive_strat_no_cont.column_count() - 1)\n",
    "f_measure = ((2 * avg_recall) * (avg_precision)) / (avg_recall + avg_precision)\n",
    "print(\"Average accuracy = \", avg_accuracy)\n",
    "print(\"Average Precision = \", avg_precision)\n",
    "print(\"Macro Average F-measure = \", f_measure)\n",
    "print(\"Average Recall = \", avg_recall)"
   ]
  },
  {
   "cell_type": "markdown",
   "metadata": {},
   "source": [
    "To my surprise Naive Bayes stratified was incredibly effective in guessing the right region without the continuous values. Meaning that the algorithm for this is very susceptible to conintuous values."
   ]
  },
  {
   "cell_type": "markdown",
   "metadata": {},
   "source": [
    "### Findings"
   ]
  },
  {
   "cell_type": "markdown",
   "metadata": {},
   "source": [
    "The prior classification approaches tell us that the most accurate methods of predictng the region in which a hospital resides is Decision Trees, KNN stratified with the continuous Average Payment attribute, and Naive Bayes Stratified without the Average Payments. This is because for KNN it had measurement scores in the mid 80s to mid 90s, meaning it was very good in predicting unknown instances. Additionally, my decision tree was even better at predicting with all of its scores being in the high 90s. However, with decision trees it was not able to predict 91 of the rows in the 6 thousand row long test set, meaning that this score is most likely a little lower in reality. Plus, it did not include the continuos data of the Average Total Payments by patient. Additionally Naive Bayes stratified without Average total payments performed exceptionally well even beating Decision trees by about 1 percent. In conclusion hwoever, I beleive I would use my Decision tree when predicitng large data sets since it is very quick due to its recursive algorithm compared to Naive Bayes. For instance, my decision tree was able to run in around 3 seconds with a test set of around 6 thousand rows while naive bayes stratified took a little over a minute with a test set of around 1 thousand. So, I would use my decision tree to predict and run over large data sets.\n",
    "\n",
    "To create a ensemble technique I will use the combonation of KNN which had an average accuracy of around 70 percent with naive bayes to maybe create a new classifier that has a better accuracy and overal precision when predicting the region"
   ]
  },
  {
   "cell_type": "markdown",
   "metadata": {},
   "source": [
    "### Ensemble\n",
    "Here I will create a decently sized sample so the ensemble can run in a reasonable amount of time. (ie. 5000 instances)\n",
    "Again for knn I will use the 5 nearest neighbors with majority voting. However for both of techniques I will only be using the categorical columns. To decide which overall prediction to do I will use weighted voting where the score is the accuracy of each of the classification techniques"
   ]
  },
  {
   "cell_type": "code",
   "execution_count": 150,
   "metadata": {},
   "outputs": [],
   "source": [
    "temp_set, ensemble_sample_table = stratified_holdout(hospital_region_table, ['Region'], 5000)"
   ]
  },
  {
   "cell_type": "code",
   "execution_count": 151,
   "metadata": {},
   "outputs": [],
   "source": [
    "ensemble_train, ensemble_test = holdout(ensemble_sample_table, ensemble_sample_table.row_count() // 5)"
   ]
  },
  {
   "cell_type": "code",
   "execution_count": 152,
   "metadata": {},
   "outputs": [],
   "source": [
    "ensemble_matrix = ensemble_knn_naive_eval(ensemble_sample_table, ensemble_train, ensemble_test, 5, \"Region\", ['Hospital Name', 'Hospital Type', 'Hospital Ownership', 'Hospital overall rating'])"
   ]
  },
  {
   "cell_type": "code",
   "execution_count": 153,
   "metadata": {},
   "outputs": [
    {
     "name": "stdout",
     "output_type": "stream",
     "text": [
      "actual       South    West    Southwest    Northeast    Midwest\n",
      "---------  -------  ------  -----------  -----------  ---------\n",
      "South          305       0            0            2          3\n",
      "West            19     142            0            2          5\n",
      "Southwest       13       1           80            0          0\n",
      "Northeast       12       5            0          180          2\n",
      "Midwest         21       2            1            0        204\n",
      "999  Rows in the test set\n",
      "Average accuracy =  0.9647647647647647\n",
      "Average Precision =  0.9380354419162492\n",
      "Macro Average F-measure =  0.9164766014680062\n",
      "Average Recall =  0.8958864695875709\n"
     ]
    }
   ],
   "source": [
    "print(ensemble_matrix)\n",
    "print(ensemble_test.row_count(), \" Rows in the test set\")\n",
    "accuracy_sum = 0\n",
    "precision_sum = 0\n",
    "recall_sum = 0\n",
    "for val in ensemble_matrix.columns():\n",
    "    if not(val == 'actual'):\n",
    "        accuracy_sum += accuracy(ensemble_matrix, val)\n",
    "        precision_sum += precision(ensemble_matrix, val)\n",
    "        recall_sum += recall(ensemble_matrix, val)\n",
    "avg_accuracy = accuracy_sum / (ensemble_matrix.column_count() - 1)\n",
    "avg_precision = precision_sum / (ensemble_matrix.column_count() - 1)\n",
    "avg_recall = recall_sum / (ensemble_matrix.column_count() - 1)\n",
    "f_measure = ((2 * avg_recall) * (avg_precision)) / (avg_recall + avg_precision)\n",
    "print(\"Average accuracy = \", avg_accuracy)\n",
    "print(\"Average Precision = \", avg_precision)\n",
    "print(\"Macro Average F-measure = \", f_measure)\n",
    "print(\"Average Recall = \", avg_recall)"
   ]
  },
  {
   "cell_type": "markdown",
   "metadata": {},
   "source": [
    "So by combinging these two classification techniques I was able to create a new classifier that has very high scores. In fact, it has a higher score of both knn without the coninuous value (around 20 percent) and the naive bayes algorithm (around 20 percent) by quite a distance. As you can see the ensemble had a average accuracy score of 95 percent and an average recall of 89 percent which is very very good."
   ]
  },
  {
   "cell_type": "markdown",
   "metadata": {},
   "source": [
    "# Conclusion"
   ]
  },
  {
   "cell_type": "markdown",
   "metadata": {},
   "source": [
    "Overall I very much enjoyed this project since developing my own libraries and classifiers was very rewarding once they started to work and run, especially when the classification techniques I implemented had high measurement scores. One of the most challenging things about this project was creating the most streamlined algorithm to run over my large datasets. These techniques are very expensive so trying to optimize them to run as quickly as possible was very hard but necessary. This is because if a classifier is developed and can run on large datasets it means it is more representitive of the actual population, making its findings more impactful. In the future, to improve this project, I would like to try and develop a classifier that could predict the certain hospital given certain characteristics. I was unable to do that now becuase again the data set is too large and the number of hospitals that are present is well over 2000. So trying to develop a classifier for that would be quite a big challenge. However, if I were to develop something that was run over the data set to find petterns, ie. unsupervised learning, it could find the best relationships within the table. Allowing me to find certain attribute that would allow me to predict the certain hospital given the amount paid and their overall rating. "
   ]
  }
 ],
 "metadata": {
  "kernelspec": {
   "display_name": "cpsc322",
   "language": "python",
   "name": "python3"
  },
  "language_info": {
   "codemirror_mode": {
    "name": "ipython",
    "version": 3
   },
   "file_extension": ".py",
   "mimetype": "text/x-python",
   "name": "python",
   "nbconvert_exporter": "python",
   "pygments_lexer": "ipython3",
   "version": "3.10.13"
  }
 },
 "nbformat": 4,
 "nbformat_minor": 2
}
