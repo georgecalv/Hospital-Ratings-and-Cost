{
 "cells": [
  {
   "cell_type": "markdown",
   "metadata": {},
   "source": [
    "*George Calvert*, CPSC 322, Fall 2023, Final Project"
   ]
  },
  {
   "cell_type": "markdown",
   "metadata": {},
   "source": [
    "# Data Discovery:"
   ]
  },
  {
   "cell_type": "markdown",
   "metadata": {},
   "source": [
    "For this project I will be using two different tables of data. The first will be inpatient charges which contains the locaion of a hospital, the service provided to the paitient, and finally the average cost for the service. The second is Hospital General information which contains the location of a hospital and then ratings for different services they provide. For classification, I will be developing models to predict the region in which a certain hospital resides. This model will be trained using both continous and categorical data. The categorical data will include the Hospital;s overall rating, name, and ownership. The continous data will be the average total amount of money patients paid when visiting. This will be calculated by finding the mean of the payements for each of the hospitals intances in the dataset, ignoring which service the individual patient paid for "
   ]
  },
  {
   "cell_type": "markdown",
   "metadata": {},
   "source": [
    "### The Data Sets:"
   ]
  },
  {
   "cell_type": "markdown",
   "metadata": {},
   "source": [
    "* The first data set is *[Inpatient Charges](https://www.kaggle.com/datasets/speedoheck/inpatient-hospital-charges)*.\n",
    "\n",
    "    Which is described as:\n",
    "    > Variation of hospital charges in the various hospitals in the US for the top 100 diagnoses.\n",
    "    > This dataset will show you how price for the same diagnosis and the same treatment and in the same city can vary differently across different providers. It might help you or your loved one find a better hospital for your treatment. You can also analyze to detect fraud among providers.\n",
    "    \n",
    "    The attributes in this dataset are:\n",
    "\n",
    "    * DRG Definition = Nominal - Service/Condition for being in hospital\n",
    "    * Provider Id = Nominal - Id for the specific hospital\n",
    "    * Provider Name = Nominal - Name of the Hospital \n",
    "    * Provider Street Address = Nominal - Address of the Hospital\n",
    "    * Provider City = Nominal - City Hospital is Located\n",
    "    * Provider State = Nominal - State Hospital is Located\n",
    "    * Provider ZIP Code = Nominal - Zip Code of Hospital\n",
    "    * Hospital Referall Region Description - Nominal - City/Region the Hospital provides for. Ex: \"CA - Los Angeles\"\n",
    "    * Total number of Discharges = Interval - Discharges for the given condition in a certain hospital\n",
    "    * Average Covered Charges = Interval - Amount of Money Covered for the given condition in a certain hospital\n",
    "    * Average Total Payments = Interval - Average total payment for service"
   ]
  },
  {
   "cell_type": "markdown",
   "metadata": {},
   "source": [
    "* The second data set is *[Hospital General Information](https://www.kaggle.com/datasets/center-for-medicare-and-medicaid/hospital-ratings?rvi=1)*.\n",
    "\n",
    "    Which is described as:\n",
    "    > The official datasets used on the Medicare.gov Hospital Compare Website provided by the Centers for Medicare & Medicaid Services. These data allow you to compare the quality of care at over 4,000 Medicare-certified hospitals across the country.\n",
    "\n",
    "    The attributes in this data set are:\n",
    "    * Provider ID = Nominal - Id for the specific hospital\n",
    "    * Hospital Name = Nominal - Name of the Hospital\n",
    "    * Address = Nominal - Address of the Hospital\n",
    "    * City = Nominal - City Hospital is Located\n",
    "    * State = Nominal - State Hospital is Located\n",
    "    * ZIP Code = Nominal - Zip Code of Hospital\n",
    "    * County Name = Nominal - County for specific Hospital\n",
    "    * Phone Number = Nominal - Phone Number for a Hospital\n",
    "    * Hospital Type = Nominal - Type of Hospital (ie. Acute Care, Critical Access)\n",
    "    * Hospital Ownership = Nominal - Type of Ownership (ie. Voluntary Non-Profit, Proprietary)\n",
    "    * Emergency Services = Interval - y or n if they have emergency service\n",
    "    * Meets criteria for meaningful use of EHRs = Interval - y or n for having an Electronic Health record\n",
    "    * Hospital overall rating = Ordinal - Rating of Hospital 1-5\n",
    "    * Hospital overall rating footnote = Nominal - Explanation for rating \n",
    "    * Mortality national comparison = Nominal - Comparing to national average for Mortality (ie. Same as national average, Below Average, Above Average)\n",
    "    * Mortality national comparison footnote = Nominal - Explanation\n",
    "    * Safety of care national comparison = Nominal - Comparing to national average for Safety of Care (ie. Same as national average, Below Average, Above Average)\n",
    "    * Safety of care national comparison footnote = Nominal - Explanation\n",
    "    * Readmission national comparison = Nominal - Comparing to national average for readmission (ie. Same as national average, Below Average, Above Average)\n",
    "    * Readmission national comparison footnote = Nominal - Explanation\n",
    "    * Patient experience national comparison = Nominal - Comparing to national average for Patient Experience (ie. Same as national average, Below Average, Above Average)\n",
    "    * Patient experience national comparison footnote = Nominal - Explanation \n",
    "    * Effectiveness of care national comparison = Nominal - Comparing to national average for Effectiveness of Care(ie. Same as national average, Below Average, Above Average)\n",
    "    * Effectiveness of care national comparison footnote = Nominal - Explanation\n",
    "    * Timeliness of care national comparison = Nominal - Comparing to national average for Timliness of care (ie. Same as national average, Below Average, Above Average)\n",
    "    * Timeliness of care national comparison footnote = Nominal Explanation\n",
    "    * Efficient use of medical imaging national comparison = Comparing to national average for Efficient use of medical imaging (ie. Same as national average, Below Average, Above Average)\n",
    "    * Efficient use of medical imaging national comparison = Nominal - Explanation\n",
    "\n"
   ]
  },
  {
   "cell_type": "markdown",
   "metadata": {},
   "source": [
    "I will joining these two data sets together, matching on the Hospital's name, and address. Then I will combine each reoccuring hospital into one single instance of a row,computing an average total cost for each hospital, then I will create a new attribute \"region\" which will be based on the state in which the hospital resides. I will then be cleaning the joined table by removing rows with missing values "
   ]
  },
  {
   "cell_type": "markdown",
   "metadata": {},
   "source": [
    "# Exploratory Analysis and Visualizations"
   ]
  },
  {
   "cell_type": "markdown",
   "metadata": {},
   "source": [
    "### Loading Libraries and Data Sets"
   ]
  },
  {
   "cell_type": "code",
   "execution_count": 1,
   "metadata": {},
   "outputs": [],
   "source": [
    "from decision_tree import *\n",
    "from data_table import *\n",
    "from data_learn import *\n",
    "from data_eval import *\n",
    "from data_util import *"
   ]
  },
  {
   "cell_type": "code",
   "execution_count": 2,
   "metadata": {},
   "outputs": [],
   "source": [
    "inpatient_charges_table = DataTable([\"DRG Definition\",\"Provider Id\",\"Hospital Name\",\"Address\",\"City\",\n",
    "                                    \"State\",\"ZIP Code\",\"Hospital Referral Region Description\", \"Total Discharges\" , \n",
    "                                    \"Average Covered Charges\" , \"Average Total Payments \",\"Average Medicare Payments\"])\n",
    "\n",
    "hospital_info_table = DataTable([\"Provider ID\",\"Hospital Name\",\"Address\",\"City\",\"State\",\"ZIP Code\",\"County Name\",\n",
    "                                \"Phone Number\",\"Hospital Type\",\"Hospital Ownership\",\"Emergency Services\",\n",
    "                                \"Meets criteria for meaningful use of EHRs\",\"Hospital overall rating\",\"Hospital overall rating footnote\",\n",
    "                                \"Mortality national comparison\",\"Mortality national comparison footnote\",\n",
    "                                \"Safety of care national comparison\",\"Safety of care national comparison footnote\",\n",
    "                                \"Readmission national comparison\",\"Readmission national comparison footnote\",\n",
    "                                \"Patient experience national comparison\",\"Patient experience national comparison footnote\",\n",
    "                                \"Effectiveness of care national comparison\",\"Effectiveness of care national comparison footnote\",\n",
    "                                \"Timeliness of care national comparison\",\"Timeliness of care national comparison footnote\",\n",
    "                                \"Efficient use of medical imaging national comparison\",\"Efficient use of medical imaging national comparison footnote\"])                               \n",
    "inpatient_charges_table.load(\"inpatientCharges.csv\")\n",
    "hospital_info_table.load(\"Hospital General Information UTF-8.csv\")"
   ]
  },
  {
   "cell_type": "markdown",
   "metadata": {},
   "source": [
    "### Combining Tables on Hospital Name, Address, City, State, ZIP Code\n",
    "* Not including non-matching rows"
   ]
  },
  {
   "cell_type": "code",
   "execution_count": 3,
   "metadata": {},
   "outputs": [],
   "source": [
    "combined_table = DataTable.combine(inpatient_charges_table, hospital_info_table, [\"Hospital Name\", \"Address\", \"City\", \"State\", \"ZIP Code\"])\n",
    "del combined_table[0]"
   ]
  },
  {
   "cell_type": "markdown",
   "metadata": {},
   "source": [
    "### Data Set Facts:"
   ]
  },
  {
   "cell_type": "code",
   "execution_count": 4,
   "metadata": {},
   "outputs": [
    {
     "name": "stdout",
     "output_type": "stream",
     "text": [
      "Number Instances:  106683\n",
      "Number Columns:  35\n"
     ]
    }
   ],
   "source": [
    "print(\"Number Instances: \", combined_table.row_count())\n",
    "print(\"Number Columns: \", combined_table.column_count())"
   ]
  },
  {
   "cell_type": "code",
   "execution_count": 5,
   "metadata": {},
   "outputs": [
    {
     "name": "stdout",
     "output_type": "stream",
     "text": [
      "Number of States Represented:  51\n",
      "Number of Distinct Hospitals:  2059\n",
      "Number Conditions Represented:  100\n"
     ]
    }
   ],
   "source": [
    "print(\"Number of States Represented: \", len(distinct_values(combined_table, 'State')))\n",
    "print(\"Number of Distinct Hospitals: \", len(distinct_values(combined_table, \"Hospital Name\")))\n",
    "print(\"Number Conditions Represented: \", len(distinct_values(combined_table, \"DRG Definition\")))"
   ]
  },
  {
   "cell_type": "markdown",
   "metadata": {},
   "source": [
    "### Visualizations"
   ]
  },
  {
   "cell_type": "markdown",
   "metadata": {},
   "source": [
    "*Distribution of Hospital Ratings*"
   ]
  },
  {
   "cell_type": "code",
   "execution_count": 6,
   "metadata": {},
   "outputs": [
    {
     "data": {
      "image/png": "[encoded data removed]",
      "text/plain": [
       "<Figure size 640x480 with 1 Axes>"
      ]
     },
     "metadata": {},
     "output_type": "display_data"
    },
    {
     "data": {
      "text/plain": [
       "<Figure size 12000x12000 with 0 Axes>"
      ]
     },
     "metadata": {},
     "output_type": "display_data"
    }
   ],
   "source": [
    "histogram(combined_table, \"Hospital overall rating\", 5, \"Overal Rating\", \"Frequency\", \"Overall Rating vs. Frequency\")"
   ]
  },
  {
   "cell_type": "markdown",
   "metadata": {},
   "source": [
    "*Distribution of Hopitals per Region*"
   ]
  },
  {
   "cell_type": "code",
   "execution_count": 7,
   "metadata": {},
   "outputs": [
    {
     "name": "stdout",
     "output_type": "stream",
     "text": [
      "State    Average Total Payments     Region\n",
      "-------  -------------------------  --------\n",
      "AL       $5777.24                   South\n",
      "AL       $4894.76                   South\n",
      "AL       $10260.21                  South\n",
      "AL       $6542.08                   South\n",
      "AL       $4596.39                   South\n",
      "AL       $4134.10                   South\n",
      "AL       $4876.00                   South\n",
      "AL       $4667.22                   South\n",
      "AL       $6020.27                   South\n",
      "AL       $11634.52                  South\n"
     ]
    }
   ],
   "source": [
    "state_table = DataTable(['State', \"Average Total Payments \"])\n",
    "for row in combined_table:\n",
    "    state_table.append([row['State'], row[\"Average Total Payments \"]])\n",
    "state_to_region_dict = {\n",
    "    'WA': 'West', 'OR': 'West', 'CA': 'West', 'NV': 'West',\n",
    "    'ID': 'West', 'MT': 'West', 'WY': 'West', 'UT': 'West',\n",
    "    'CO': 'West', 'AK': 'West', 'HI': 'West', 'ME': 'Northeast',\n",
    "    'VT': 'Northeast', 'NY': 'Northeast', 'NH': 'Northeast',\n",
    "    'MA': 'Northeast', 'RI': 'Northeast', 'CT': 'Northeast',\n",
    "    'NJ': 'Northeast', 'PA': 'Northeast', 'ND': 'Midwest',\n",
    "    'SD': 'Midwest', 'NE': 'Midwest', 'KS': 'Midwest',\n",
    "    'MN': 'Midwest', 'IA': 'Midwest', 'MO': 'Midwest', 'WI': 'Midwest',\n",
    "    'IL': 'Midwest', 'MI': 'Midwest', 'IN': 'Midwest', 'OH': 'Midwest',\n",
    "    'WV': 'South', 'DC': 'South', 'MD': 'South',\n",
    "    'VA': 'South', 'KY': 'South', 'TN': 'South', 'NC': 'South',\n",
    "    'MS': 'South', 'AR': 'South', 'LA': 'South', 'AL': 'South',\n",
    "    'GA': 'South', 'SC': 'South', 'FL': 'South', 'DE': 'South',\n",
    "    'AZ': 'Southwest', 'NM': 'Southwest', 'OK': 'Southwest',\n",
    "    'TX': 'Southwest'}\n",
    "temp = state_table.columns()\n",
    "temp.append('Region')\n",
    "region_table = DataTable(temp)\n",
    "for row in range(state_table.row_count()):\n",
    "    vals = state_table[row].values()\n",
    "    vals.append(state_to_region_dict[state_table[row][\"State\"]])\n",
    "    region_table.append(vals)\n",
    "print(region_table.rows([x for x in range(10)]))"
   ]
  },
  {
   "cell_type": "code",
   "execution_count": 8,
   "metadata": {},
   "outputs": [
    {
     "data": {
      "image/png": "[encoded data removed]",
      "text/plain": [
       "<Figure size 640x480 with 1 Axes>"
      ]
     },
     "metadata": {},
     "output_type": "display_data"
    },
    {
     "data": {
      "text/plain": [
       "<Figure size 12000x12000 with 0 Axes>"
      ]
     },
     "metadata": {},
     "output_type": "display_data"
    }
   ],
   "source": [
    "histogram(region_table, 'Region', 5, \"Region\", \"Number of Hospitals\", \"Number of Hospitals per Region\")"
   ]
  },
  {
   "cell_type": "markdown",
   "metadata": {},
   "source": [
    "*Distribution of Average Cost per Region* "
   ]
  },
  {
   "cell_type": "code",
   "execution_count": 9,
   "metadata": {},
   "outputs": [],
   "source": [
    "# converting\n",
    "for row in range(region_table.row_count()):\n",
    "    s = region_table[row][\"Average Total Payments \"]\n",
    "    s = s.replace(\"$\", \"\")\n",
    "    s = region_table.convert_numeric(s)\n",
    "    region_table[row][\"Average Total Payments \"] = s"
   ]
  },
  {
   "cell_type": "code",
   "execution_count": 10,
   "metadata": {},
   "outputs": [],
   "source": [
    "# partition on state annd create averages\n",
    "p_list = partition(region_table, [\"Region\"])"
   ]
  },
  {
   "cell_type": "code",
   "execution_count": 11,
   "metadata": {},
   "outputs": [
    {
     "name": "stdout",
     "output_type": "stream",
     "text": [
      "Region       Average Total Payments\n",
      "---------  -------------------------\n",
      "South                        8808.2\n",
      "West                        11641.6\n",
      "Southwest                    9260.86\n",
      "Northeast                   10592.9\n",
      "Midwest                      9289.14\n"
     ]
    }
   ],
   "source": [
    "label = []\n",
    "d = []\n",
    "for p in p_list:\n",
    "    vals = []\n",
    "    name = p[0][\"Region\"]\n",
    "    label.append(name)\n",
    "    d.append(mean(p, \"Average Total Payments \"))\n",
    "hospital_avg_prices_region = DataTable(['Region', 'Average Total Payments '])\n",
    "for s in range(len(label)):\n",
    "    hospital_avg_prices_region.append([label[s], d[s]])\n",
    "print(hospital_avg_prices_region)"
   ]
  },
  {
   "cell_type": "code",
   "execution_count": 12,
   "metadata": {},
   "outputs": [
    {
     "data": {
      "image/png": "[encoded data removed]",
      "text/plain": [
       "<Figure size 640x480 with 1 Axes>"
      ]
     },
     "metadata": {},
     "output_type": "display_data"
    }
   ],
   "source": [
    "bar_chart(column_values(hospital_avg_prices_region, \"Region\"), column_values(hospital_avg_prices_region, \"Average Total Payments \"), \"Region\", \"Average Payment\", \"Region vs Average Payment\")"
   ]
  },
  {
   "cell_type": "markdown",
   "metadata": {},
   "source": [
    "*Clusters of Average Payment per State*\n",
    "\n",
    "> Will be using 7 clusters"
   ]
  },
  {
   "cell_type": "code",
   "execution_count": 13,
   "metadata": {},
   "outputs": [],
   "source": [
    "state_dict = {}\n",
    "dist_vals = distinct_values(region_table, \"State\")\n",
    "for val in range(len(dist_vals)):\n",
    "    state_dict[dist_vals[val]] = val\n",
    "\n",
    "for row in region_table:\n",
    "    row[\"State\"] = state_dict[row[\"State\"]]\n",
    "\n",
    "label = []\n",
    "d = []\n",
    "p_list = partition(region_table, [\"State\"])\n",
    "for p in p_list:\n",
    "    vals = []\n",
    "    name = p[0][\"State\"]\n",
    "    label.append(name)\n",
    "    d.append(mean(p, \"Average Total Payments \"))\n",
    "hospital_avg_prices_state = DataTable(['State', 'Average Total Payments '])\n",
    "for s in range(len(label)):\n",
    "    hospital_avg_prices_state.append([label[s], d[s]])\n"
   ]
  },
  {
   "cell_type": "code",
   "execution_count": 14,
   "metadata": {},
   "outputs": [
    {
     "name": "stdout",
     "output_type": "stream",
     "text": [
      "[633816.335084265, 6132783.806235194, 220330.4435913842, 263556.20873681677, 1035009.316574938]\n"
     ]
    }
   ],
   "source": [
    "centroids = select_k_random_centroids(hospital_avg_prices_state, 5)\n",
    "clusters = k_means(hospital_avg_prices_state, centroids, [\"State\", \"Average Total Payments \"])\n",
    "two_tss = tss(clusters, ['State', 'Average Total Payments '])\n",
    "print(two_tss)"
   ]
  },
  {
   "cell_type": "code",
   "execution_count": 15,
   "metadata": {},
   "outputs": [
    {
     "data": {
      "image/png": "[encoded data removed]",
      "text/plain": [
       "<Figure size 640x480 with 1 Axes>"
      ]
     },
     "metadata": {},
     "output_type": "display_data"
    }
   ],
   "source": [
    "import matplotlib.pyplot as plt\n",
    "import matplotlib.colors as mcolors\n",
    "\n",
    "plt.figure()\n",
    "plt.grid(color='0.85', zorder=0)\n",
    "\n",
    "colors = list(mcolors.CSS4_COLORS.values())\n",
    "shuffle(colors)\n",
    "for c in range(len(clusters)):\n",
    "   plt.scatter(column_values(clusters[c], 'State'), \n",
    "            column_values(clusters[c], 'Average Total Payments '), \n",
    "            c=colors[c], linestyle='', zorder=3)\n",
    "plt.show()\n",
    "plt.close()"
   ]
  },
  {
   "cell_type": "markdown",
   "metadata": {},
   "source": [
    "For developing my classifiers I will be using the columns Hospital name, Hospital Ownership, Hospital Type and Average Total Payments to predic the region in which a hospital is. This is because I believe this will have the highest corelation in predicting the region since cost rating and ownership vary by region.\n",
    "\n",
    "The types of classifiers I will be using will be KNN, Naive Bayes, Decision Trees, and Random Forests."
   ]
  },
  {
   "cell_type": "markdown",
   "metadata": {},
   "source": [
    "# Data Cleaning and Preprocessing"
   ]
  },
  {
   "cell_type": "markdown",
   "metadata": {},
   "source": [
    "3. Cleaning"
   ]
  },
  {
   "cell_type": "markdown",
   "metadata": {},
   "source": [
    "* Dropping unecessary attributes"
   ]
  },
  {
   "cell_type": "code",
   "execution_count": 16,
   "metadata": {},
   "outputs": [
    {
     "name": "stdout",
     "output_type": "stream",
     "text": [
      "['DRG Definition', 'Hospital Name', 'State', 'Average Total Payments ', 'Hospital Type', 'Hospital Ownership', 'Hospital overall rating']\n"
     ]
    }
   ],
   "source": [
    "combined_table.drop(['Hospital Referral Region Description', 'Total Discharges', 'Average Covered Charges','Average Medicare Payments',\n",
    "                     'Provider Id', 'County Name', 'Phone Number', 'Emergency Services', \n",
    "                     'Meets criteria for meaningful use of EHRs','Hospital overall rating footnote', 'Mortality national comparison', \n",
    "                     'Mortality national comparison footnote', 'Safety of care national comparison', 'Safety of care national comparison footnote', \n",
    "                     'Readmission national comparison', 'Readmission national comparison footnote', 'Patient experience national comparison', \n",
    "                     'Patient experience national comparison footnote', 'Effectiveness of care national comparison', \n",
    "                     'Effectiveness of care national comparison footnote', 'Timeliness of care national comparison', 'Timeliness of care national comparison footnote', \n",
    "                     'Efficient use of medical imaging national comparison', 'Efficient use of medical imaging national comparison footnote', 'ZIP Code',\n",
    "                    \"Address\", \"Provider ID\", \"City\"])\n",
    "print(combined_table.columns())"
   ]
  },
  {
   "cell_type": "markdown",
   "metadata": {},
   "source": [
    "* Remove Rows with Missing values in the overall rating section"
   ]
  },
  {
   "cell_type": "code",
   "execution_count": 17,
   "metadata": {},
   "outputs": [],
   "source": [
    "for row in range(combined_table.row_count()):\n",
    "    if combined_table[row]['Hospital overall rating'] == 'Not Available':\n",
    "        combined_table[row]['Hospital overall rating'] = ''\n",
    "cleaned_table = remove_missing(combined_table, ['Hospital overall rating'])"
   ]
  },
  {
   "cell_type": "markdown",
   "metadata": {},
   "source": [
    "* Replace missing values in the average total payment section"
   ]
  },
  {
   "cell_type": "code",
   "execution_count": 18,
   "metadata": {},
   "outputs": [],
   "source": [
    "# convert numeric\n",
    "for row in range(cleaned_table.row_count()):\n",
    "    temp = cleaned_table[row]['Average Total Payments ']\n",
    "    temp = temp.replace('$', '')\n",
    "    num = cleaned_table.convert_numeric(temp)\n",
    "    cleaned_table[row]['Average Total Payments '] = num\n",
    "# replace with average in the state\n",
    "avg = lambda xs : None if not len(xs) else sum(xs) / len(xs)\n",
    "cleaned_table = replace_missing(cleaned_table, 'Average Total Payments ', ['State'], avg)"
   ]
  },
  {
   "cell_type": "markdown",
   "metadata": {},
   "source": [
    "* Normalize Average Payments"
   ]
  },
  {
   "cell_type": "code",
   "execution_count": 19,
   "metadata": {},
   "outputs": [],
   "source": [
    "normalize(cleaned_table, \"Average Total Payments \")"
   ]
  },
  {
   "cell_type": "markdown",
   "metadata": {},
   "source": [
    "3. Creating Region Attribute and dropping the state attribute\n",
    "\n",
    "    > I am dropping the state attribute since there are too many different states to predict making it incredibly difficult to predict using a classifier. So dropping it and replacing it with region gives my classification approach more of a chance to predict it. Since instead of 50 different values to choose from it now has 5. "
   ]
  },
  {
   "cell_type": "markdown",
   "metadata": {},
   "source": [
    "* Creating region attribute"
   ]
  },
  {
   "cell_type": "code",
   "execution_count": 20,
   "metadata": {},
   "outputs": [],
   "source": [
    "state_to_region_dict = {\n",
    "    'WA': 'West', 'OR': 'West', 'CA': 'West', 'NV': 'West',\n",
    "    'ID': 'West', 'MT': 'West', 'WY': 'West', 'UT': 'West',\n",
    "    'CO': 'West', 'AK': 'West', 'HI': 'West', 'ME': 'Northeast',\n",
    "    'VT': 'Northeast', 'NY': 'Northeast', 'NH': 'Northeast',\n",
    "    'MA': 'Northeast', 'RI': 'Northeast', 'CT': 'Northeast',\n",
    "    'NJ': 'Northeast', 'PA': 'Northeast', 'ND': 'Midwest',\n",
    "    'SD': 'Midwest', 'NE': 'Midwest', 'KS': 'Midwest',\n",
    "    'MN': 'Midwest', 'IA': 'Midwest', 'MO': 'Midwest', 'WI': 'Midwest',\n",
    "    'IL': 'Midwest', 'MI': 'Midwest', 'IN': 'Midwest', 'OH': 'Midwest',\n",
    "    'WV': 'South', 'DC': 'South', 'MD': 'South',\n",
    "    'VA': 'South', 'KY': 'South', 'TN': 'South', 'NC': 'South',\n",
    "    'MS': 'South', 'AR': 'South', 'LA': 'South', 'AL': 'South',\n",
    "    'GA': 'South', 'SC': 'South', 'FL': 'South', 'DE': 'South',\n",
    "    'AZ': 'Southwest', 'NM': 'Southwest', 'OK': 'Southwest',\n",
    "    'TX': 'Southwest'}\n",
    "temp = cleaned_table.columns()\n",
    "temp.append('Region')\n",
    "hospital_region_table = DataTable(temp)\n",
    "for row in range(cleaned_table.row_count()):\n",
    "    state = cleaned_table[row]['State']\n",
    "    region = state_to_region_dict[state]\n",
    "    row = cleaned_table[row].values()\n",
    "    row.append(region)\n",
    "    hospital_region_table.append(row)"
   ]
  },
  {
   "cell_type": "markdown",
   "metadata": {},
   "source": [
    "* Dropping State Attribute"
   ]
  },
  {
   "cell_type": "code",
   "execution_count": 21,
   "metadata": {},
   "outputs": [],
   "source": [
    "hospital_region_table.drop(['State'])"
   ]
  },
  {
   "cell_type": "code",
   "execution_count": 22,
   "metadata": {},
   "outputs": [],
   "source": [
    "hospital_region_table.drop(['DRG Definition'])"
   ]
  },
  {
   "cell_type": "code",
   "execution_count": 23,
   "metadata": {},
   "outputs": [
    {
     "name": "stdout",
     "output_type": "stream",
     "text": [
      "Hospital Name                       Average Total Payments   Hospital Type         Hospital Ownership                             Hospital overall rating  Region\n",
      "--------------------------------  -------------------------  --------------------  -------------------------------------------  -------------------------  --------\n",
      "SOUTHEAST ALABAMA MEDICAL CENTER                  0.0225611  Acute Care Hospitals  Government - Hospital District or Authority                          3  South\n",
      "SOUTHEAST ALABAMA MEDICAL CENTER                  0.0161431  Acute Care Hospitals  Government - Hospital District or Authority                          3  South\n",
      "SOUTHEAST ALABAMA MEDICAL CENTER                  0.0551453  Acute Care Hospitals  Government - Hospital District or Authority                          3  South\n",
      "SOUTHEAST ALABAMA MEDICAL CENTER                  0.0281214  Acute Care Hospitals  Government - Hospital District or Authority                          3  South\n",
      "SOUTHEAST ALABAMA MEDICAL CENTER                  0.0139771  Acute Care Hospitals  Government - Hospital District or Authority                          3  South\n",
      "SOUTHEAST ALABAMA MEDICAL CENTER                  0.0106191  Acute Care Hospitals  Government - Hospital District or Authority                          3  South\n",
      "SOUTHEAST ALABAMA MEDICAL CENTER                  0.0160123  Acute Care Hospitals  Government - Hospital District or Authority                          3  South\n",
      "SOUTHEAST ALABAMA MEDICAL CENTER                  0.0144932  Acute Care Hospitals  Government - Hospital District or Authority                          3  South\n",
      "SOUTHEAST ALABAMA MEDICAL CENTER                  0.0243273  Acute Care Hospitals  Government - Hospital District or Authority                          3  South\n",
      "SOUTHEAST ALABAMA MEDICAL CENTER                  0.0651321  Acute Care Hospitals  Government - Hospital District or Authority                          3  South\n"
     ]
    }
   ],
   "source": [
    "print(hospital_region_table.rows(x for x in range(10)))"
   ]
  },
  {
   "cell_type": "markdown",
   "metadata": {},
   "source": [
    "# Classifier Development"
   ]
  },
  {
   "cell_type": "markdown",
   "metadata": {},
   "source": [
    "Since this data set is so large (106 thousand rows), I will have to greatly diminish the size of the table in order for my classification techniques to run in a reasonable amount of time. So, I will create a smaller data set of around 20 thousand rows for my decision trees then around 2 thousand for my knn and naive bayes, since they are a lot slower than the trees. The distribution of the regions will match that of the original data set. I will be completing this by using the stratify holdout method to return a set that has the same distribution of region values."
   ]
  },
  {
   "cell_type": "code",
   "execution_count": 24,
   "metadata": {},
   "outputs": [],
   "source": [
    "temp_set, classification_sample_table = stratified_holdout(hospital_region_table, ['Region'], 20000)"
   ]
  },
  {
   "cell_type": "code",
   "execution_count": 25,
   "metadata": {},
   "outputs": [
    {
     "name": "stdout",
     "output_type": "stream",
     "text": [
      "Hospital Name                            Average Total Payments   Hospital Type         Hospital Ownership                Hospital overall rating  Region\n",
      "-------------------------------------  -------------------------  --------------------  ------------------------------  -------------------------  ---------\n",
      "ST VINCENT'S MEDICAL CENTER SOUTHSIDE                 0.0494251   Acute Care Hospitals  Voluntary non-profit - Private                          3  South\n",
      "HIGHLINE MEDICAL CENTER                               0.037156    Acute Care Hospitals  Voluntary non-profit - Private                          3  West\n",
      "YORK HOSPITAL                                         0.0739414   Acute Care Hospitals  Voluntary non-profit - Private                          3  Northeast\n",
      "AURORA ST LUKES MEDICAL CENTER                        0.0224884   Acute Care Hospitals  Voluntary non-profit - Private                          4  Midwest\n",
      "MT SINAI HOSPITAL MEDICAL CENTER                      0.0982759   Acute Care Hospitals  Voluntary non-profit - Private                          2  Midwest\n",
      "ST JOSEPH'S HOSPITAL HEALTH CENTER                    0.0228373   Acute Care Hospitals  Voluntary non-profit - Private                          3  Northeast\n",
      "CANDLER HOSPITAL                                      0.0119129   Acute Care Hospitals  Voluntary non-profit - Other                            3  South\n",
      "PARKWEST MEDICAL CENTER                               0.0129595   Acute Care Hospitals  Voluntary non-profit - Private                          3  South\n",
      "JENNIE STUART MEDICAL CENTER                          0.0226774   Acute Care Hospitals  Voluntary non-profit - Private                          2  South\n",
      "SOUTH TEXAS HEALTH SYSTEM                             0.055138    Acute Care Hospitals  Proprietary                                             3  Southwest\n",
      "BLOUNT MEMORIAL HOSPITAL                              0.00710122  Acute Care Hospitals  Government - Local                                      2  South\n",
      "GATEWAY REGIONAL MEDICAL CENTER                       0.0112369   Acute Care Hospitals  Proprietary                                             2  Midwest\n",
      "ST LUKE'S HOSPITAL BETHLEHEM                          0.257388    Acute Care Hospitals  Voluntary non-profit - Private                          4  Northeast\n",
      "MOUNT AUBURN HOSPITAL                                 0.0944891   Acute Care Hospitals  Voluntary non-profit - Private                          3  Northeast\n",
      "AURORA ST LUKES MEDICAL CENTER                        0.0169063   Acute Care Hospitals  Voluntary non-profit - Private                          4  Midwest\n"
     ]
    }
   ],
   "source": [
    "print(classification_sample_table.rows([randint(0, classification_sample_table.row_count() - 1) for x in range(15)]))"
   ]
  },
  {
   "cell_type": "markdown",
   "metadata": {},
   "source": [
    "### Decision Trees\n",
    "> Since my implementation of decision trees doesnt use continuous data, I will not be using the \"Average total payments\" attribute"
   ]
  },
  {
   "cell_type": "code",
   "execution_count": 26,
   "metadata": {},
   "outputs": [],
   "source": [
    "training, test = stratified_holdout(classification_sample_table, ['Region'], classification_sample_table.row_count() // 3)"
   ]
  },
  {
   "cell_type": "code",
   "execution_count": 27,
   "metadata": {},
   "outputs": [
    {
     "name": "stdout",
     "output_type": "stream",
     "text": [
      "['Hospital Name', 'Average Total Payments ', 'Hospital Type', 'Hospital Ownership', 'Hospital overall rating', 'Region']\n"
     ]
    }
   ],
   "source": [
    "print(classification_sample_table.columns())"
   ]
  },
  {
   "cell_type": "code",
   "execution_count": 28,
   "metadata": {},
   "outputs": [
    {
     "name": "stdout",
     "output_type": "stream",
     "text": [
      "Number values not in tree 92\n"
     ]
    }
   ],
   "source": [
    "tree = tdidt_eval(training, test, 'Region', ['Hospital Name', 'Hospital Type', 'Hospital Ownership', 'Hospital overall rating'])"
   ]
  },
  {
   "cell_type": "markdown",
   "metadata": {},
   "source": [
    "Accuracy of Tree"
   ]
  },
  {
   "cell_type": "code",
   "execution_count": 29,
   "metadata": {},
   "outputs": [
    {
     "name": "stdout",
     "output_type": "stream",
     "text": [
      "actual       South    West    Southwest    Northeast    Midwest\n",
      "---------  -------  ------  -----------  -----------  ---------\n",
      "South         1921       2            6            6          6\n",
      "West             0    1054            0           28         10\n",
      "Southwest       11       6          684            0          6\n",
      "Northeast        8      11            0         1348          3\n",
      "Midwest          5      43            0            5       1409\n",
      "6664  Rows in teh test set\n",
      "Average accuracy =  0.9905051734631771\n",
      "Average Precision =  0.9755714936200242\n",
      "Macro Average F-measure =  0.9747906793141488\n",
      "Average Recall =  0.9740111138832447\n"
     ]
    }
   ],
   "source": [
    "print(tree)\n",
    "print(test.row_count(), \" Rows in teh test set\")\n",
    "accuracy_sum = 0\n",
    "precision_sum = 0\n",
    "recall_sum = 0\n",
    "for val in tree.columns():\n",
    "    if not(val == 'actual'):\n",
    "        accuracy_sum += accuracy(tree, val)\n",
    "        precision_sum += precision(tree, val)\n",
    "        recall_sum += recall(tree, val)\n",
    "avg_accuracy = accuracy_sum / (tree.column_count() - 1)\n",
    "avg_precision = precision_sum / (tree.column_count() - 1)\n",
    "avg_recall = recall_sum / (tree.column_count() - 1)\n",
    "f_measure = ((2 * avg_recall) * (avg_precision)) / (avg_recall + avg_precision)\n",
    "print(\"Average accuracy = \", avg_accuracy)\n",
    "print(\"Average Precision = \", avg_precision)\n",
    "print(\"Macro Average F-measure = \", f_measure)\n",
    "print(\"Average Recall = \", avg_recall)\n"
   ]
  },
  {
   "cell_type": "markdown",
   "metadata": {},
   "source": [
    "While this tree has a very good accuracy when predicting regions it however was unable to predict 80 rows of the 6,664 rows it tested. "
   ]
  },
  {
   "cell_type": "markdown",
   "metadata": {},
   "source": [
    "### Random Forests\n",
    "\n",
    "> I will be using  F = 4, M = 3, N = 30 to predict the region in which an unknown hospital is. This will select all of the columns in the training set, then the 3 most accurate trees it creates from a total of 50 trees created Then since my implementation of decision trees doesnt use continuous data, I will not be using the \"Average total payments\" attribute"
   ]
  },
  {
   "cell_type": "code",
   "execution_count": 32,
   "metadata": {},
   "outputs": [],
   "source": [
    "forest = random_forest_eval(classification_sample_table, training, test, 4, 3, 50, \"Region\", ['Hospital Name', 'Hospital Type', 'Hospital Ownership', 'Hospital overall rating'])"
   ]
  },
  {
   "cell_type": "code",
   "execution_count": 34,
   "metadata": {},
   "outputs": [
    {
     "name": "stdout",
     "output_type": "stream",
     "text": [
      "actual       South    West    Southwest    Northeast    Midwest\n",
      "---------  -------  ------  -----------  -----------  ---------\n",
      "South         1966       0            0            0          0\n",
      "West          1102       0            0            0          0\n",
      "Southwest      737       0            0            0          0\n",
      "Northeast     1375       0            0            0          0\n",
      "Midwest       1484       0            0            0          0\n",
      "6664  Rows in the test set\n",
      "Average accuracy =  0.7180072028811525\n",
      "Average Precision =  0.059003601440576224\n",
      "Macro Average F-measure =  0.09112398609501739\n",
      "Average Recall =  0.2\n"
     ]
    }
   ],
   "source": [
    "print(forest)\n",
    "print(test.row_count(), \" Rows in the test set\")\n",
    "accuracy_sum = 0\n",
    "precision_sum = 0\n",
    "recall_sum = 0\n",
    "for val in tree.columns():\n",
    "    if not(val == 'actual'):\n",
    "        accuracy_sum += accuracy(forest, val)\n",
    "        precision_sum += precision(forest, val)\n",
    "        recall_sum += recall(forest, val)\n",
    "avg_accuracy = accuracy_sum / (forest.column_count() - 1)\n",
    "avg_precision = precision_sum / (forest.column_count() - 1)\n",
    "avg_recall = recall_sum / (forest.column_count() - 1)\n",
    "f_measure = ((2 * avg_recall) * (avg_precision)) / (avg_recall + avg_precision)\n",
    "print(\"Average accuracy = \", avg_accuracy)\n",
    "print(\"Average Precision = \", avg_precision)\n",
    "print(\"Macro Average F-measure = \", f_measure)\n",
    "print(\"Average Recall = \", avg_recall)"
   ]
  },
  {
   "cell_type": "markdown",
   "metadata": {},
   "source": [
    "Here you can see that the forest performed very very poorly when trying to predict the region. I beleive that this is due to the fact that the forest tends to create trees that are overfitted to the training set. Meaning that even though it is accurate when predicting its particular training and test set it might not bee good at predicitng the overall testing set since it is overfitted. So, when the forest selects the 3 most accurate trees it selects those which are actually very poor in predicting new instances"
   ]
  },
  {
   "cell_type": "markdown",
   "metadata": {},
   "source": [
    "### KNN\n",
    "> Here I am going to create an even smaller sample of the actual table since the cost of computing KNN is very high. So I will be using the same method as before but will be creating a sample set of around 2000 instances."
   ]
  },
  {
   "cell_type": "markdown",
   "metadata": {},
   "source": [
    "For KNN itself I will be using the 5 closest neighbors with majority voting"
   ]
  },
  {
   "cell_type": "code",
   "execution_count": 35,
   "metadata": {},
   "outputs": [],
   "source": [
    "temp_set, knn_sample_table = stratified_holdout(hospital_region_table, ['Region'], 2000)"
   ]
  },
  {
   "cell_type": "code",
   "execution_count": 36,
   "metadata": {},
   "outputs": [],
   "source": [
    "knn_train, knn_test = holdout(knn_sample_table, knn_sample_table.row_count() // 5)"
   ]
  },
  {
   "cell_type": "code",
   "execution_count": 38,
   "metadata": {},
   "outputs": [],
   "source": [
    "knn_matrix = knn_eval(knn_train, knn_test, majority_vote, 5, 'Region', ['Average Total Payments '], ['Hospital Name', 'Hospital Type', 'Hospital Ownership', 'Hospital overall rating'])"
   ]
  },
  {
   "cell_type": "code",
   "execution_count": 39,
   "metadata": {},
   "outputs": [
    {
     "name": "stdout",
     "output_type": "stream",
     "text": [
      "actual       South    West    Southwest    Northeast    Midwest\n",
      "---------  -------  ------  -----------  -----------  ---------\n",
      "South           86       6            4           14         14\n",
      "West            12      27           10            6         10\n",
      "Southwest       17       4           17            6          5\n",
      "Northeast       17       4            1           48          7\n",
      "Midwest         18       4            2            7         53\n",
      "399  Rows in the test set\n",
      "Average accuracy =  0.8315789473684211\n",
      "Average Precision =  0.5722863087806908\n",
      "Macro Average F-measure =  0.5567527471145715\n",
      "Average Recall =  0.5420401564641196\n"
     ]
    }
   ],
   "source": [
    "print(knn_matrix)\n",
    "print(knn_test.row_count(), \" Rows in the test set\")\n",
    "accuracy_sum = 0\n",
    "precision_sum = 0\n",
    "recall_sum = 0\n",
    "for val in tree.columns():\n",
    "    if not(val == 'actual'):\n",
    "        accuracy_sum += accuracy(knn_matrix, val)\n",
    "        precision_sum += precision(knn_matrix, val)\n",
    "        recall_sum += recall(knn_matrix, val)\n",
    "avg_accuracy = accuracy_sum / (knn_matrix.column_count() - 1)\n",
    "avg_precision = precision_sum / (knn_matrix.column_count() - 1)\n",
    "avg_recall = recall_sum / (knn_matrix.column_count() - 1)\n",
    "f_measure = ((2 * avg_recall) * (avg_precision)) / (avg_recall + avg_precision)\n",
    "print(\"Average accuracy = \", avg_accuracy)\n",
    "print(\"Average Precision = \", avg_precision)\n",
    "print(\"Macro Average F-measure = \", f_measure)\n",
    "print(\"Average Recall = \", avg_recall)"
   ]
  },
  {
   "cell_type": "markdown",
   "metadata": {},
   "source": [
    "### KNN Stratified\n",
    "Now I will be using KNN Stratified with 4 folds and the same sample set as the previous knn with the 5 nearest neighbors"
   ]
  },
  {
   "cell_type": "code",
   "execution_count": 44,
   "metadata": {},
   "outputs": [],
   "source": [
    "knn_strat_matrix = knn_stratified(knn_sample_table, 4, 'Region', majority_vote, 5, ['Average Total Payments '], ['Hospital Name', 'Hospital Type', 'Hospital Ownership', 'Hospital overall rating'])"
   ]
  },
  {
   "cell_type": "code",
   "execution_count": 47,
   "metadata": {},
   "outputs": [
    {
     "name": "stdout",
     "output_type": "stream",
     "text": [
      "actual       South    West    Southwest    Northeast    Midwest\n",
      "---------  -------  ------  -----------  -----------  ---------\n",
      "South          542       6            7           17         17\n",
      "West            24     259           11           15         21\n",
      "Southwest       27      10          165            6         13\n",
      "Northeast       25      11            3          362         11\n",
      "Midwest         29      12            3           11        390\n",
      "1997  Rows in table\n",
      "Average accuracy =  0.9441161742613922\n",
      "Average Precision =  0.8646932712658402\n",
      "Macro Average F-measure =  0.8528571915361681\n",
      "Average Recall =  0.8413407651830955\n"
     ]
    }
   ],
   "source": [
    "print(knn_strat_matrix)\n",
    "print(knn_sample_table.row_count(), \" Rows in table\")\n",
    "accuracy_sum = 0\n",
    "precision_sum = 0\n",
    "recall_sum = 0\n",
    "for val in tree.columns():\n",
    "    if not(val == 'actual'):\n",
    "        accuracy_sum += accuracy(knn_strat_matrix, val)\n",
    "        precision_sum += precision(knn_strat_matrix, val)\n",
    "        recall_sum += recall(knn_strat_matrix, val)\n",
    "avg_accuracy = accuracy_sum / (knn_strat_matrix.column_count() - 1)\n",
    "avg_precision = precision_sum / (knn_strat_matrix.column_count() - 1)\n",
    "avg_recall = recall_sum / (knn_strat_matrix.column_count() - 1)\n",
    "f_measure = ((2 * avg_recall) * (avg_precision)) / (avg_recall + avg_precision)\n",
    "print(\"Average accuracy = \", avg_accuracy)\n",
    "print(\"Average Precision = \", avg_precision)\n",
    "print(\"Macro Average F-measure = \", f_measure)\n",
    "print(\"Average Recall = \", avg_recall)"
   ]
  },
  {
   "cell_type": "markdown",
   "metadata": {},
   "source": [
    "### Naive Bayes\n",
    "> Here I will be using the Naive Bayes algorithm with the same test and training sets as KNN since Naive is even more expensive than KNN"
   ]
  },
  {
   "cell_type": "code",
   "execution_count": 42,
   "metadata": {},
   "outputs": [],
   "source": [
    "naive_matrix = naive_bayes_eval(knn_train, knn_test, 'Region', ['Average Total Payments '], ['Hospital Name', 'Hospital Type', 'Hospital Ownership', 'Hospital overall rating'])"
   ]
  },
  {
   "cell_type": "code",
   "execution_count": 43,
   "metadata": {},
   "outputs": [
    {
     "name": "stdout",
     "output_type": "stream",
     "text": [
      "actual       South    West    Southwest    Northeast    Midwest\n",
      "---------  -------  ------  -----------  -----------  ---------\n",
      "South          118       0            0            6          0\n",
      "West            59       0            0            5          1\n",
      "Southwest       47       0            0            2          0\n",
      "Northeast       61       0            0           16          0\n",
      "Midwest         79       0            0            4          1\n",
      "399  Rows in the test set\n",
      "Average accuracy =  0.7353383458646616\n",
      "Average Precision =  0.2618048618048618\n",
      "Macro Average F-measure =  0.24726879276444189\n",
      "Average Recall =  0.23426197458455525\n"
     ]
    }
   ],
   "source": [
    "print(naive_matrix)\n",
    "print(knn_test.row_count(), \" Rows in the test set\")\n",
    "accuracy_sum = 0\n",
    "precision_sum = 0\n",
    "recall_sum = 0\n",
    "for val in tree.columns():\n",
    "    if not(val == 'actual'):\n",
    "        accuracy_sum += accuracy(naive_matrix, val)\n",
    "        precision_sum += precision(naive_matrix, val)\n",
    "        recall_sum += recall(naive_matrix, val)\n",
    "avg_accuracy = accuracy_sum / (naive_matrix.column_count() - 1)\n",
    "avg_precision = precision_sum / (naive_matrix.column_count() - 1)\n",
    "avg_recall = recall_sum / (naive_matrix.column_count() - 1)\n",
    "f_measure = ((2 * avg_recall) * (avg_precision)) / (avg_recall + avg_precision)\n",
    "print(\"Average accuracy = \", avg_accuracy)\n",
    "print(\"Average Precision = \", avg_precision)\n",
    "print(\"Macro Average F-measure = \", f_measure)\n",
    "print(\"Average Recall = \", avg_recall)"
   ]
  },
  {
   "cell_type": "markdown",
   "metadata": {},
   "source": [
    "### Naive Bayes Stratified\n",
    "> Here I will be using 4 folds for my stratified naive bayes algorithm"
   ]
  },
  {
   "cell_type": "code",
   "execution_count": 48,
   "metadata": {},
   "outputs": [],
   "source": [
    "naive_strat_matrix = naive_bayes_stratified(knn_sample_table, 4, \"Region\", ['Average Total Payments '], ['Hospital Name', 'Hospital Type', 'Hospital Ownership', 'Hospital overall rating'])"
   ]
  },
  {
   "cell_type": "code",
   "execution_count": 49,
   "metadata": {},
   "outputs": [
    {
     "name": "stdout",
     "output_type": "stream",
     "text": [
      "actual       South    West    Southwest    Northeast    Midwest\n",
      "---------  -------  ------  -----------  -----------  ---------\n",
      "South          548       0            0           40          1\n",
      "West           289       5            0           36          0\n",
      "Southwest      203       0            0           18          0\n",
      "Northeast      367       0            0           45          0\n",
      "Midwest        399       0            0           44          2\n",
      "399  Rows in the test set\n",
      "Average accuracy =  0.7201802704056084\n",
      "Average Precision =  0.44320026142366975\n",
      "Macro Average F-measure =  0.2866728313181576\n",
      "Average Recall =  0.21185193810095856\n"
     ]
    }
   ],
   "source": [
    "print(naive_strat_matrix)\n",
    "print(knn_test.row_count(), \" Rows in the test set\")\n",
    "accuracy_sum = 0\n",
    "precision_sum = 0\n",
    "recall_sum = 0\n",
    "for val in tree.columns():\n",
    "    if not(val == 'actual'):\n",
    "        accuracy_sum += accuracy(naive_strat_matrix, val)\n",
    "        precision_sum += precision(naive_strat_matrix, val)\n",
    "        recall_sum += recall(naive_strat_matrix, val)\n",
    "avg_accuracy = accuracy_sum / (naive_strat_matrix.column_count() - 1)\n",
    "avg_precision = precision_sum / (naive_strat_matrix.column_count() - 1)\n",
    "avg_recall = recall_sum / (naive_strat_matrix.column_count() - 1)\n",
    "f_measure = ((2 * avg_recall) * (avg_precision)) / (avg_recall + avg_precision)\n",
    "print(\"Average accuracy = \", avg_accuracy)\n",
    "print(\"Average Precision = \", avg_precision)\n",
    "print(\"Macro Average F-measure = \", f_measure)\n",
    "print(\"Average Recall = \", avg_recall)"
   ]
  }
 ],
 "metadata": {
  "kernelspec": {
   "display_name": "cpsc322",
   "language": "python",
   "name": "python3"
  },
  "language_info": {
   "codemirror_mode": {
    "name": "ipython",
    "version": 3
   },
   "file_extension": ".py",
   "mimetype": "text/x-python",
   "name": "python",
   "nbconvert_exporter": "python",
   "pygments_lexer": "ipython3",
   "version": "3.10.13"
  }
 },
 "nbformat": 4,
 "nbformat_minor": 2
}
