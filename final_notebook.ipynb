{
 "cells": [
  {
   "cell_type": "markdown",
   "metadata": {},
   "source": [
    "*George Calvert*, CPSC 322, Fall 2023, Final Project"
   ]
  },
  {
   "cell_type": "markdown",
   "metadata": {},
   "source": [
    "# Data Discovery:"
   ]
  },
  {
   "cell_type": "markdown",
   "metadata": {},
   "source": [
    "For this project I will be using two different tables of data. The first will be inpatient charges which contains the locaion of a hospital, the service provided to the paitient, and finally the average cost for the service. The second is Hospital General information which contains the location of a hospital and then ratings for different services they provide. For classification, I will be developing models to predict the region in which a certain hospital resides. This model will be trained using both continous and categorical data. The categorical data will include the Hospital;s overall rating, name, and ownership. The continous data will be the average total amount of money patients paid when visiting. This will be calculated by finding the mean of the payements for each of the hospitals intances in the dataset, ignoring which service the individual patient paid for "
   ]
  },
  {
   "cell_type": "markdown",
   "metadata": {},
   "source": [
    "### The Data Sets:"
   ]
  },
  {
   "cell_type": "markdown",
   "metadata": {},
   "source": [
    "* The first data set is *[Inpatient Charges](https://www.kaggle.com/datasets/speedoheck/inpatient-hospital-charges)*.\n",
    "\n",
    "    Which is described as:\n",
    "    > Variation of hospital charges in the various hospitals in the US for the top 100 diagnoses.\n",
    "    > This dataset will show you how price for the same diagnosis and the same treatment and in the same city can vary differently across different providers. It might help you or your loved one find a better hospital for your treatment. You can also analyze to detect fraud among providers.\n",
    "    \n",
    "    The attributes in this dataset are:\n",
    "\n",
    "    * DRG Definition = Nominal - Service/Condition for being in hospital\n",
    "    * Provider Id = Nominal - Id for the specific hospital\n",
    "    * Provider Name = Nominal - Name of the Hospital \n",
    "    * Provider Street Address = Nominal - Address of the Hospital\n",
    "    * Provider City = Nominal - City Hospital is Located\n",
    "    * Provider State = Nominal - State Hospital is Located\n",
    "    * Provider ZIP Code = Nominal - Zip Code of Hospital\n",
    "    * Hospital Referall Region Description - Nominal - City/Region the Hospital provides for. Ex: \"CA - Los Angeles\"\n",
    "    * Total number of Discharges = Interval - Discharges for the given condition in a certain hospital\n",
    "    * Average Covered Charges = Interval - Amount of Money Covered for the given condition in a certain hospital\n",
    "    * Average Total Payments = Interval - Average total payment for service"
   ]
  },
  {
   "cell_type": "markdown",
   "metadata": {},
   "source": [
    "* The second data set is *[Hospital General Information](https://www.kaggle.com/datasets/center-for-medicare-and-medicaid/hospital-ratings?rvi=1)*.\n",
    "\n",
    "    Which is described as:\n",
    "    > The official datasets used on the Medicare.gov Hospital Compare Website provided by the Centers for Medicare & Medicaid Services. These data allow you to compare the quality of care at over 4,000 Medicare-certified hospitals across the country.\n",
    "\n",
    "    The attributes in this data set are:\n",
    "    * Provider ID = Nominal - Id for the specific hospital\n",
    "    * Hospital Name = Nominal - Name of the Hospital\n",
    "    * Address = Nominal - Address of the Hospital\n",
    "    * City = Nominal - City Hospital is Located\n",
    "    * State = Nominal - State Hospital is Located\n",
    "    * ZIP Code = Nominal - Zip Code of Hospital\n",
    "    * County Name = Nominal - County for specific Hospital\n",
    "    * Phone Number = Nominal - Phone Number for a Hospital\n",
    "    * Hospital Type = Nominal - Type of Hospital (ie. Acute Care, Critical Access)\n",
    "    * Hospital Ownership = Nominal - Type of Ownership (ie. Voluntary Non-Profit, Proprietary)\n",
    "    * Emergency Services = Interval - y or n if they have emergency service\n",
    "    * Meets criteria for meaningful use of EHRs = Interval - y or n for having an Electronic Health record\n",
    "    * Hospital overall rating = Ordinal - Rating of Hospital 1-5\n",
    "    * Hospital overall rating footnote = Nominal - Explanation for rating \n",
    "    * Mortality national comparison = Nominal - Comparing to national average for Mortality (ie. Same as national average, Below Average, Above Average)\n",
    "    * Mortality national comparison footnote = Nominal - Explanation\n",
    "    * Safety of care national comparison = Nominal - Comparing to national average for Safety of Care (ie. Same as national average, Below Average, Above Average)\n",
    "    * Safety of care national comparison footnote = Nominal - Explanation\n",
    "    * Readmission national comparison = Nominal - Comparing to national average for readmission (ie. Same as national average, Below Average, Above Average)\n",
    "    * Readmission national comparison footnote = Nominal - Explanation\n",
    "    * Patient experience national comparison = Nominal - Comparing to national average for Patient Experience (ie. Same as national average, Below Average, Above Average)\n",
    "    * Patient experience national comparison footnote = Nominal - Explanation \n",
    "    * Effectiveness of care national comparison = Nominal - Comparing to national average for Effectiveness of Care(ie. Same as national average, Below Average, Above Average)\n",
    "    * Effectiveness of care national comparison footnote = Nominal - Explanation\n",
    "    * Timeliness of care national comparison = Nominal - Comparing to national average for Timliness of care (ie. Same as national average, Below Average, Above Average)\n",
    "    * Timeliness of care national comparison footnote = Nominal Explanation\n",
    "    * Efficient use of medical imaging national comparison = Comparing to national average for Efficient use of medical imaging (ie. Same as national average, Below Average, Above Average)\n",
    "    * Efficient use of medical imaging national comparison = Nominal - Explanation\n",
    "\n"
   ]
  },
  {
   "cell_type": "markdown",
   "metadata": {},
   "source": [
    "I will joining these two data sets together, matching on the Hospital's name, and address. Then I will combine each reoccuring hospital into one single instance of a row,computing an average total cost for each hospital, then I will create a new attribute \"region\" which will be based on the state in which the hospital resides. I will then be cleaning the joined table by removing rows with missing values "
   ]
  },
  {
   "cell_type": "markdown",
   "metadata": {},
   "source": [
    "# Exploratory Analysis and Visualizations"
   ]
  },
  {
   "cell_type": "markdown",
   "metadata": {},
   "source": [
    "### Loading Libraries and Data Sets"
   ]
  },
  {
   "cell_type": "code",
   "execution_count": 160,
   "metadata": {},
   "outputs": [],
   "source": [
    "from decision_tree import *\n",
    "from data_table import *\n",
    "from data_learn import *\n",
    "from data_eval import *\n",
    "from data_util import *"
   ]
  },
  {
   "cell_type": "code",
   "execution_count": 161,
   "metadata": {},
   "outputs": [],
   "source": [
    "inpatient_charges_table = DataTable([\"DRG Definition\",\"Provider Id\",\"Hospital Name\",\"Address\",\"City\",\n",
    "                                    \"State\",\"ZIP Code\",\"Hospital Referral Region Description\", \"Total Discharges\" , \n",
    "                                    \"Average Covered Charges\" , \"Average Total Payments \",\"Average Medicare Payments\"])\n",
    "\n",
    "hospital_info_table = DataTable([\"Provider ID\",\"Hospital Name\",\"Address\",\"City\",\"State\",\"ZIP Code\",\"County Name\",\n",
    "                                \"Phone Number\",\"Hospital Type\",\"Hospital Ownership\",\"Emergency Services\",\n",
    "                                \"Meets criteria for meaningful use of EHRs\",\"Hospital overall rating\",\"Hospital overall rating footnote\",\n",
    "                                \"Mortality national comparison\",\"Mortality national comparison footnote\",\n",
    "                                \"Safety of care national comparison\",\"Safety of care national comparison footnote\",\n",
    "                                \"Readmission national comparison\",\"Readmission national comparison footnote\",\n",
    "                                \"Patient experience national comparison\",\"Patient experience national comparison footnote\",\n",
    "                                \"Effectiveness of care national comparison\",\"Effectiveness of care national comparison footnote\",\n",
    "                                \"Timeliness of care national comparison\",\"Timeliness of care national comparison footnote\",\n",
    "                                \"Efficient use of medical imaging national comparison\",\"Efficient use of medical imaging national comparison footnote\"])                               \n",
    "inpatient_charges_table.load(\"inpatientCharges.csv\")\n",
    "hospital_info_table.load(\"Hospital General Information UTF-8.csv\")"
   ]
  },
  {
   "cell_type": "markdown",
   "metadata": {},
   "source": [
    "### Combining Tables on Hospital Name, Address, City, State, ZIP Code\n",
    "* Not including non-matching rows"
   ]
  },
  {
   "cell_type": "code",
   "execution_count": 162,
   "metadata": {},
   "outputs": [],
   "source": [
    "combined_table = DataTable.combine(inpatient_charges_table, hospital_info_table, [\"Hospital Name\", \"Address\", \"City\", \"State\", \"ZIP Code\"])\n",
    "del combined_table[0]"
   ]
  },
  {
   "cell_type": "markdown",
   "metadata": {},
   "source": [
    "### Data Set Facts:"
   ]
  },
  {
   "cell_type": "code",
   "execution_count": 163,
   "metadata": {},
   "outputs": [
    {
     "name": "stdout",
     "output_type": "stream",
     "text": [
      "Number Instances:  106683\n",
      "Number Columns:  35\n"
     ]
    }
   ],
   "source": [
    "print(\"Number Instances: \", combined_table.row_count())\n",
    "print(\"Number Columns: \", combined_table.column_count())"
   ]
  },
  {
   "cell_type": "code",
   "execution_count": 164,
   "metadata": {},
   "outputs": [
    {
     "name": "stdout",
     "output_type": "stream",
     "text": [
      "Number of States Represented:  51\n",
      "Number of Distinct Hospitals:  2059\n",
      "Number Conditions Represented:  100\n"
     ]
    }
   ],
   "source": [
    "print(\"Number of States Represented: \", len(distinct_values(combined_table, 'State')))\n",
    "print(\"Number of Distinct Hospitals: \", len(distinct_values(combined_table, \"Hospital Name\")))\n",
    "print(\"Number Conditions Represented: \", len(distinct_values(combined_table, \"DRG Definition\")))"
   ]
  },
  {
   "cell_type": "markdown",
   "metadata": {},
   "source": [
    "### Visualizations"
   ]
  },
  {
   "cell_type": "markdown",
   "metadata": {},
   "source": [
    "*Distribution of Hospital Ratings*"
   ]
  },
  {
   "cell_type": "code",
   "execution_count": 165,
   "metadata": {},
   "outputs": [
    {
     "data": {
      "image/png": "[encoded data removed]",
      "text/plain": [
       "<Figure size 640x480 with 1 Axes>"
      ]
     },
     "metadata": {},
     "output_type": "display_data"
    },
    {
     "data": {
      "text/plain": [
       "<Figure size 12000x12000 with 0 Axes>"
      ]
     },
     "metadata": {},
     "output_type": "display_data"
    }
   ],
   "source": [
    "histogram(combined_table, \"Hospital overall rating\", 5, \"Overal Rating\", \"Frequency\", \"Overall Rating vs. Frequency\")"
   ]
  },
  {
   "cell_type": "markdown",
   "metadata": {},
   "source": [
    "*Distribution of Hopitals per Region*"
   ]
  },
  {
   "cell_type": "code",
   "execution_count": 166,
   "metadata": {},
   "outputs": [
    {
     "name": "stdout",
     "output_type": "stream",
     "text": [
      "State    Average Total Payments     Region\n",
      "-------  -------------------------  --------\n",
      "AL       $5777.24                   South\n",
      "AL       $4894.76                   South\n",
      "AL       $10260.21                  South\n",
      "AL       $6542.08                   South\n",
      "AL       $4596.39                   South\n",
      "AL       $4134.10                   South\n",
      "AL       $4876.00                   South\n",
      "AL       $4667.22                   South\n",
      "AL       $6020.27                   South\n",
      "AL       $11634.52                  South\n"
     ]
    }
   ],
   "source": [
    "state_table = DataTable(['State', \"Average Total Payments \"])\n",
    "for row in combined_table:\n",
    "    state_table.append([row['State'], row[\"Average Total Payments \"]])\n",
    "state_to_region_dict = {\n",
    "    'WA': 'West', 'OR': 'West', 'CA': 'West', 'NV': 'West',\n",
    "    'ID': 'West', 'MT': 'West', 'WY': 'West', 'UT': 'West',\n",
    "    'CO': 'West', 'AK': 'West', 'HI': 'West', 'ME': 'Northeast',\n",
    "    'VT': 'Northeast', 'NY': 'Northeast', 'NH': 'Northeast',\n",
    "    'MA': 'Northeast', 'RI': 'Northeast', 'CT': 'Northeast',\n",
    "    'NJ': 'Northeast', 'PA': 'Northeast', 'ND': 'Midwest',\n",
    "    'SD': 'Midwest', 'NE': 'Midwest', 'KS': 'Midwest',\n",
    "    'MN': 'Midwest', 'IA': 'Midwest', 'MO': 'Midwest', 'WI': 'Midwest',\n",
    "    'IL': 'Midwest', 'MI': 'Midwest', 'IN': 'Midwest', 'OH': 'Midwest',\n",
    "    'WV': 'South', 'DC': 'South', 'MD': 'South',\n",
    "    'VA': 'South', 'KY': 'South', 'TN': 'South', 'NC': 'South',\n",
    "    'MS': 'South', 'AR': 'South', 'LA': 'South', 'AL': 'South',\n",
    "    'GA': 'South', 'SC': 'South', 'FL': 'South', 'DE': 'South',\n",
    "    'AZ': 'Southwest', 'NM': 'Southwest', 'OK': 'Southwest',\n",
    "    'TX': 'Southwest'}\n",
    "temp = state_table.columns()\n",
    "temp.append('Region')\n",
    "region_table = DataTable(temp)\n",
    "for row in range(state_table.row_count()):\n",
    "    vals = state_table[row].values()\n",
    "    vals.append(state_to_region_dict[state_table[row][\"State\"]])\n",
    "    region_table.append(vals)\n",
    "print(region_table.rows([x for x in range(10)]))"
   ]
  },
  {
   "cell_type": "code",
   "execution_count": 167,
   "metadata": {},
   "outputs": [
    {
     "data": {
      "image/png": "[encoded data removed]",
      "text/plain": [
       "<Figure size 640x480 with 1 Axes>"
      ]
     },
     "metadata": {},
     "output_type": "display_data"
    },
    {
     "data": {
      "text/plain": [
       "<Figure size 12000x12000 with 0 Axes>"
      ]
     },
     "metadata": {},
     "output_type": "display_data"
    }
   ],
   "source": [
    "histogram(region_table, 'Region', 5, \"Region\", \"Number of Hospitals\", \"Number of Hospitals per Region\")"
   ]
  },
  {
   "cell_type": "markdown",
   "metadata": {},
   "source": [
    "*Distribution of Average Cost per Region* "
   ]
  },
  {
   "cell_type": "code",
   "execution_count": 168,
   "metadata": {},
   "outputs": [],
   "source": [
    "# converting\n",
    "for row in range(region_table.row_count()):\n",
    "    s = region_table[row][\"Average Total Payments \"]\n",
    "    s = s.replace(\"$\", \"\")\n",
    "    s = region_table.convert_numeric(s)\n",
    "    region_table[row][\"Average Total Payments \"] = s"
   ]
  },
  {
   "cell_type": "code",
   "execution_count": 169,
   "metadata": {},
   "outputs": [],
   "source": [
    "# partition on state annd create averages\n",
    "p_list = partition(region_table, [\"Region\"])"
   ]
  },
  {
   "cell_type": "code",
   "execution_count": 170,
   "metadata": {},
   "outputs": [
    {
     "name": "stdout",
     "output_type": "stream",
     "text": [
      "Region       Average Total Payments\n",
      "---------  -------------------------\n",
      "South                        8808.2\n",
      "West                        11641.6\n",
      "Southwest                    9260.86\n",
      "Northeast                   10592.9\n",
      "Midwest                      9289.14\n"
     ]
    }
   ],
   "source": [
    "label = []\n",
    "d = []\n",
    "for p in p_list:\n",
    "    vals = []\n",
    "    name = p[0][\"Region\"]\n",
    "    label.append(name)\n",
    "    d.append(mean(p, \"Average Total Payments \"))\n",
    "hospital_avg_prices_region = DataTable(['Region', 'Average Total Payments '])\n",
    "for s in range(len(label)):\n",
    "    hospital_avg_prices_region.append([label[s], d[s]])\n",
    "print(hospital_avg_prices_region)"
   ]
  },
  {
   "cell_type": "code",
   "execution_count": 171,
   "metadata": {},
   "outputs": [
    {
     "data": {
      "image/png": "[encoded data removed]",
      "text/plain": [
       "<Figure size 640x480 with 1 Axes>"
      ]
     },
     "metadata": {},
     "output_type": "display_data"
    }
   ],
   "source": [
    "bar_chart(column_values(hospital_avg_prices_region, \"Region\"), column_values(hospital_avg_prices_region, \"Average Total Payments \"), \"Region\", \"Average Payment\", \"Region vs Average Payment\")"
   ]
  },
  {
   "cell_type": "markdown",
   "metadata": {},
   "source": [
    "*Clusters of Average Payment per State*\n",
    "\n",
    "> Will be using 3 clusters"
   ]
  },
  {
   "cell_type": "code",
   "execution_count": 172,
   "metadata": {},
   "outputs": [
    {
     "name": "stdout",
     "output_type": "stream",
     "text": [
      "  State    Average Total Payments\n",
      "-------  -------------------------\n",
      "      0                    7559.27\n",
      "      1                   14409.3\n",
      "      2                   10216.6\n",
      "      3                    7918.21\n",
      "      4                   12620.4\n",
      "      5                    9294.31\n",
      "      6                   11486\n",
      "      7                   10360.1\n",
      "      8                   12147.2\n",
      "      9                    8724.35\n",
      "     10                    8911.31\n",
      "     11                   12859.9\n",
      "     12                    9964.32\n",
      "     13                    9882.82\n",
      "     14                    8669.33\n",
      "     15                    8518.83\n",
      "     16                    8056.24\n",
      "     17                    8082.95\n",
      "     18                    8497.54\n",
      "     19                    8886.92\n",
      "     20                   12879.7\n",
      "     21                   10421.3\n",
      "     22                   10328.8\n",
      "     23                    9554.74\n",
      "     24                    8709.53\n",
      "     25                    8552.46\n",
      "     26                    9134.35\n",
      "     27                    8853.38\n",
      "     28                   10146.5\n",
      "     29                    9289.66\n",
      "     30                   10755.7\n",
      "     31                   10361.3\n",
      "     32                   11641.1\n",
      "     33                    9184.34\n",
      "     34                    9727.77\n",
      "     35                    8761.99\n",
      "     36                    8543.15\n",
      "     37                   10246\n",
      "     38                    9409.01\n",
      "     39                    9663.08\n",
      "     40                    9602.33\n",
      "     41                    9139.88\n",
      "     42                    8195.59\n",
      "     43                    9140\n",
      "     44                    8466.84\n",
      "     45                   10303.4\n",
      "     46                    8882.25\n",
      "     47                   10227.1\n",
      "     48                    8091.05\n",
      "     49                   10260.3\n",
      "     50                   11946.1\n"
     ]
    }
   ],
   "source": [
    "state_dict = {}\n",
    "dist_vals = distinct_values(region_table, \"State\")\n",
    "for val in range(len(dist_vals)):\n",
    "    state_dict[dist_vals[val]] = val\n",
    "\n",
    "for row in region_table:\n",
    "    row[\"State\"] = state_dict[row[\"State\"]]\n",
    "\n",
    "label = []\n",
    "d = []\n",
    "p_list = partition(region_table, [\"State\"])\n",
    "for p in p_list:\n",
    "    vals = []\n",
    "    name = p[0][\"State\"]\n",
    "    label.append(name)\n",
    "    d.append(mean(p, \"Average Total Payments \"))\n",
    "hospital_avg_prices_state = DataTable(['State', 'Average Total Payments '])\n",
    "for s in range(len(label)):\n",
    "    hospital_avg_prices_state.append([label[s], d[s]])\n",
    "print(hospital_avg_prices_state)\n"
   ]
  },
  {
   "cell_type": "code",
   "execution_count": 174,
   "metadata": {},
   "outputs": [
    {
     "name": "stdout",
     "output_type": "stream",
     "text": [
      "[266916.8173171689, 2016578.292137911, 5082899.9445096655, 2254929.120431157]\n"
     ]
    }
   ],
   "source": [
    "centroids = select_k_random_centroids(hospital_avg_prices_state, 4)\n",
    "clusters = k_means(hospital_avg_prices_state, centroids, [\"State\", \"Average Total Payments \"])\n",
    "two_tss = tss(clusters, ['State', 'Average Total Payments '])\n",
    "print(two_tss)"
   ]
  },
  {
   "cell_type": "code",
   "execution_count": 175,
   "metadata": {},
   "outputs": [
    {
     "data": {
      "image/png": "[encoded data removed]",
      "text/plain": [
       "<Figure size 640x480 with 1 Axes>"
      ]
     },
     "metadata": {},
     "output_type": "display_data"
    }
   ],
   "source": [
    "import matplotlib.pyplot as plt\n",
    "import matplotlib.colors as mcolors\n",
    "\n",
    "plt.figure()\n",
    "plt.grid(color='0.85', zorder=0)\n",
    "\n",
    "colors = list(mcolors.CSS4_COLORS.values())\n",
    "shuffle(colors)\n",
    "for c in range(len(clusters)):\n",
    "   plt.scatter(column_values(clusters[c], 'State'), \n",
    "            column_values(clusters[c], 'Average Total Payments '), \n",
    "            c=colors[c], linestyle='', zorder=3)\n",
    "plt.show()\n",
    "plt.close()"
   ]
  },
  {
   "cell_type": "markdown",
   "metadata": {},
   "source": [
    "For my classifier in predicitng the region in which a Hospital is placed I will be using the attributes "
   ]
  },
  {
   "cell_type": "markdown",
   "metadata": {},
   "source": [
    "# Data Cleaning and Preprocessing"
   ]
  },
  {
   "cell_type": "markdown",
   "metadata": {},
   "source": [
    "3. Cleaning"
   ]
  },
  {
   "cell_type": "markdown",
   "metadata": {},
   "source": [
    "* Dropping unecessary attributes"
   ]
  },
  {
   "cell_type": "code",
   "execution_count": 176,
   "metadata": {},
   "outputs": [
    {
     "name": "stdout",
     "output_type": "stream",
     "text": [
      "['DRG Definition', 'Hospital Name', 'State', 'Average Total Payments ', 'Hospital Type', 'Hospital Ownership', 'Hospital overall rating']\n"
     ]
    }
   ],
   "source": [
    "combined_table.drop(['Hospital Referral Region Description', 'Total Discharges', 'Average Covered Charges','Average Medicare Payments',\n",
    "                     'Provider Id', 'County Name', 'Phone Number', 'Emergency Services', \n",
    "                     'Meets criteria for meaningful use of EHRs','Hospital overall rating footnote', 'Mortality national comparison', \n",
    "                     'Mortality national comparison footnote', 'Safety of care national comparison', 'Safety of care national comparison footnote', \n",
    "                     'Readmission national comparison', 'Readmission national comparison footnote', 'Patient experience national comparison', \n",
    "                     'Patient experience national comparison footnote', 'Effectiveness of care national comparison', \n",
    "                     'Effectiveness of care national comparison footnote', 'Timeliness of care national comparison', 'Timeliness of care national comparison footnote', \n",
    "                     'Efficient use of medical imaging national comparison', 'Efficient use of medical imaging national comparison footnote', 'ZIP Code',\n",
    "                    \"Address\", \"Provider ID\", \"City\"])\n",
    "print(combined_table.columns())"
   ]
  },
  {
   "cell_type": "markdown",
   "metadata": {},
   "source": [
    "* Remove Rows with Missing values in the overall rating section"
   ]
  },
  {
   "cell_type": "code",
   "execution_count": 177,
   "metadata": {},
   "outputs": [],
   "source": [
    "for row in range(combined_table.row_count()):\n",
    "    if combined_table[row]['Hospital overall rating'] == 'Not Available':\n",
    "        combined_table[row]['Hospital overall rating'] = ''\n",
    "cleaned_table = remove_missing(combined_table, ['Hospital overall rating'])"
   ]
  },
  {
   "cell_type": "markdown",
   "metadata": {},
   "source": [
    "* Replace missing values in the average total payment section"
   ]
  },
  {
   "cell_type": "code",
   "execution_count": 178,
   "metadata": {},
   "outputs": [],
   "source": [
    "# convert numeric\n",
    "for row in range(cleaned_table.row_count()):\n",
    "    temp = cleaned_table[row]['Average Total Payments ']\n",
    "    temp = temp.replace('$', '')\n",
    "    num = cleaned_table.convert_numeric(temp)\n",
    "    cleaned_table[row]['Average Total Payments '] = num\n",
    "# replace with average in the state\n",
    "avg = lambda xs : None if not len(xs) else sum(xs) / len(xs)\n",
    "cleaned_table = replace_missing(cleaned_table, 'Average Total Payments ', ['State'], avg)"
   ]
  },
  {
   "cell_type": "markdown",
   "metadata": {},
   "source": [
    "* Normalize Average Payments"
   ]
  },
  {
   "cell_type": "code",
   "execution_count": 179,
   "metadata": {},
   "outputs": [],
   "source": [
    "normalize(cleaned_table, \"Average Total Payments \")"
   ]
  },
  {
   "cell_type": "markdown",
   "metadata": {},
   "source": [
    "3. Creating Region Attribute and dropping the state attribute\n",
    "\n",
    "    > I am dropping the state attribute since there are too many different states to predict making it incredibly difficult to predict using a classifier. So dropping it and replacing it with region gives my classification approach more of a chance to predict it. Since instead of 50 different values to choose from it now has 5. "
   ]
  },
  {
   "cell_type": "markdown",
   "metadata": {},
   "source": [
    "* Creating region attribute"
   ]
  },
  {
   "cell_type": "code",
   "execution_count": 180,
   "metadata": {},
   "outputs": [],
   "source": [
    "state_to_region_dict = {\n",
    "    'WA': 'West', 'OR': 'West', 'CA': 'West', 'NV': 'West',\n",
    "    'ID': 'West', 'MT': 'West', 'WY': 'West', 'UT': 'West',\n",
    "    'CO': 'West', 'AK': 'West', 'HI': 'West', 'ME': 'Northeast',\n",
    "    'VT': 'Northeast', 'NY': 'Northeast', 'NH': 'Northeast',\n",
    "    'MA': 'Northeast', 'RI': 'Northeast', 'CT': 'Northeast',\n",
    "    'NJ': 'Northeast', 'PA': 'Northeast', 'ND': 'Midwest',\n",
    "    'SD': 'Midwest', 'NE': 'Midwest', 'KS': 'Midwest',\n",
    "    'MN': 'Midwest', 'IA': 'Midwest', 'MO': 'Midwest', 'WI': 'Midwest',\n",
    "    'IL': 'Midwest', 'MI': 'Midwest', 'IN': 'Midwest', 'OH': 'Midwest',\n",
    "    'WV': 'South', 'DC': 'South', 'MD': 'South',\n",
    "    'VA': 'South', 'KY': 'South', 'TN': 'South', 'NC': 'South',\n",
    "    'MS': 'South', 'AR': 'South', 'LA': 'South', 'AL': 'South',\n",
    "    'GA': 'South', 'SC': 'South', 'FL': 'South', 'DE': 'South',\n",
    "    'AZ': 'Southwest', 'NM': 'Southwest', 'OK': 'Southwest',\n",
    "    'TX': 'Southwest'}\n",
    "temp = cleaned_table.columns()\n",
    "temp.append('Region')\n",
    "hospital_region_table = DataTable(temp)\n",
    "for row in range(cleaned_table.row_count()):\n",
    "    state = cleaned_table[row]['State']\n",
    "    region = state_to_region_dict[state]\n",
    "    row = cleaned_table[row].values()\n",
    "    row.append(region)\n",
    "    hospital_region_table.append(row)"
   ]
  },
  {
   "cell_type": "markdown",
   "metadata": {},
   "source": [
    "* Dropping State Attribute"
   ]
  },
  {
   "cell_type": "code",
   "execution_count": 181,
   "metadata": {},
   "outputs": [],
   "source": [
    "hospital_region_table.drop(['State'])"
   ]
  },
  {
   "cell_type": "markdown",
   "metadata": {},
   "source": [
    "# Classifier Development"
   ]
  }
 ],
 "metadata": {
  "kernelspec": {
   "display_name": "cpsc322",
   "language": "python",
   "name": "python3"
  },
  "language_info": {
   "codemirror_mode": {
    "name": "ipython",
    "version": 3
   },
   "file_extension": ".py",
   "mimetype": "text/x-python",
   "name": "python",
   "nbconvert_exporter": "python",
   "pygments_lexer": "ipython3",
   "version": "3.10.13"
  }
 },
 "nbformat": 4,
 "nbformat_minor": 2
}
