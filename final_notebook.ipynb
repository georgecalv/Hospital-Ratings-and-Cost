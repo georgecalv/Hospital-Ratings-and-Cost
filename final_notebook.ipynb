{
 "cells": [
  {
   "cell_type": "markdown",
   "metadata": {},
   "source": [
    "*George Calvert*, CPSC 322, Fall 2023, Final Project"
   ]
  },
  {
   "cell_type": "markdown",
   "metadata": {},
   "source": [
    "# Introduction:"
   ]
  },
  {
   "cell_type": "markdown",
   "metadata": {},
   "source": [
    "For this project I will be using two different tables of data. The first will be inpatient charges which contains the locaion of a hospital, the service provided to the paitient, and finally the average cost for the service. The second is Hospital General information which contains the location of a hospital and then ratings for different services they provide. For classification, I will be developing models to predict the region in which a certain hospital resides. This model will be trained using both continous and categorical data. The categorical data will include the Hospital;s overall rating, name, and ownership. The continous data will be the average total amount of money patients paid when visiting. This will be calculated by finding the mean of the payements for each of the hospitals intances in the dataset, ignoring which service the individual patient paid for "
   ]
  },
  {
   "cell_type": "markdown",
   "metadata": {},
   "source": [
    "### The Data Sets:"
   ]
  },
  {
   "cell_type": "markdown",
   "metadata": {},
   "source": [
    "* The first data set is *[Inpatient Charges](https://www.kaggle.com/datasets/speedoheck/inpatient-hospital-charges)*.\n",
    "\n",
    "    Which is described as:\n",
    "    > Variation of hospital charges in the various hospitals in the US for the top 100 diagnoses.\n",
    "    > This dataset will show you how price for the same diagnosis and the same treatment and in the same city can vary differently across different providers. It might help you or your loved one find a better hospital for your treatment. You can also analyze to detect fraud among providers.\n",
    "    \n",
    "    The attributes in this dataset are:\n",
    "\n",
    "    * DRG Definition = Nominal - Service/Condition for being in hospital\n",
    "    * Provider Id = Nominal - Id for the specific hospital\n",
    "    * Provider Name = Nominal - Name of the Hospital \n",
    "    * Provider Street Address = Nominal - Address of the Hospital\n",
    "    * Provider City = Nominal - City Hospital is Located\n",
    "    * Provider State = Nominal - State Hospital is Located\n",
    "    * Provider ZIP Code = Nominal - Zip Code of Hospital\n",
    "    * Hospital Referall Region Description - Nominal - City/Region the Hospital provides for. Ex: \"CA - Los Angeles\"\n",
    "    * Total number of Discharges = Interval - Discharges for the given condition in a certain hospital\n",
    "    * Average Covered Charges = Interval - Amount of Money Covered for the given condition in a certain hospital\n",
    "    * Average Total Payments = Interval - Average total payment for service"
   ]
  },
  {
   "cell_type": "markdown",
   "metadata": {},
   "source": [
    "* The second data set is *[Hospital General Information](https://www.kaggle.com/datasets/center-for-medicare-and-medicaid/hospital-ratings?rvi=1)*.\n",
    "\n",
    "    Which is described as:\n",
    "    > The official datasets used on the Medicare.gov Hospital Compare Website provided by the Centers for Medicare & Medicaid Services. These data allow you to compare the quality of care at over 4,000 Medicare-certified hospitals across the country.\n",
    "\n",
    "    The attributes in this data set are:\n",
    "    * Provider ID = Nominal - Id for the specific hospital\n",
    "    * Hospital Name = Nominal - Name of the Hospital\n",
    "    * Address = Nominal - Address of the Hospital\n",
    "    * City = Nominal - City Hospital is Located\n",
    "    * State = Nominal - State Hospital is Located\n",
    "    * ZIP Code = Nominal - Zip Code of Hospital\n",
    "    * County Name = Nominal - County for specific Hospital\n",
    "    * Phone Number = Nominal - Phone Number for a Hospital\n",
    "    * Hospital Type = Nominal - Type of Hospital (ie. Acute Care, Critical Access)\n",
    "    * Hospital Ownership = Nominal - Type of Ownership (ie. Voluntary Non-Profit, Proprietary)\n",
    "    * Emergency Services = Interval - y or n if they have emergency service\n",
    "    * Meets criteria for meaningful use of EHRs = Interval - y or n for having an Electronic Health record\n",
    "    * Hospital overall rating = Ordinal - Rating of Hospital 1-5\n",
    "    * Hospital overall rating footnote = Nominal - Explanation for rating \n",
    "    * Mortality national comparison = Nominal - Comparing to national average for Mortality (ie. Same as national average, Below Average, Above Average)\n",
    "    * Mortality national comparison footnote = Nominal - Explanation\n",
    "    * Safety of care national comparison = Nominal - Comparing to national average for Safety of Care (ie. Same as national average, Below Average, Above Average)\n",
    "    * Safety of care national comparison footnote = Nominal - Explanation\n",
    "    * Readmission national comparison = Nominal - Comparing to national average for readmission (ie. Same as national average, Below Average, Above Average)\n",
    "    * Readmission national comparison footnote = Nominal - Explanation\n",
    "    * Patient experience national comparison = Nominal - Comparing to national average for Patient Experience (ie. Same as national average, Below Average, Above Average)\n",
    "    * Patient experience national comparison footnote = Nominal - Explanation \n",
    "    * Effectiveness of care national comparison = Nominal - Comparing to national average for Effectiveness of Care(ie. Same as national average, Below Average, Above Average)\n",
    "    * Effectiveness of care national comparison footnote = Nominal - Explanation\n",
    "    * Timeliness of care national comparison = Nominal - Comparing to national average for Timliness of care (ie. Same as national average, Below Average, Above Average)\n",
    "    * Timeliness of care national comparison footnote = Nominal Explanation\n",
    "    * Efficient use of medical imaging national comparison = Comparing to national average for Efficient use of medical imaging (ie. Same as national average, Below Average, Above Average)\n",
    "    * Efficient use of medical imaging national comparison = Nominal - Explanation\n",
    "\n"
   ]
  },
  {
   "cell_type": "markdown",
   "metadata": {},
   "source": [
    "I will joining these two data sets together, matching on the Hospital's name, and address. Then I will combine each reoccuring hospital into one single instance of a row,computing an average total cost for each hospital, then I will create a new attribute \"region\" which will be based on the state in which the hospital resides. I will then be cleaning the joined table by removing rows with missing values "
   ]
  },
  {
   "cell_type": "markdown",
   "metadata": {},
   "source": []
  }
 ],
 "metadata": {
  "language_info": {
   "name": "python"
  }
 },
 "nbformat": 4,
 "nbformat_minor": 2
}
